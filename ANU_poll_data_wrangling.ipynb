{
 "cells": [
  {
   "cell_type": "code",
   "execution_count": 1,
   "metadata": {},
   "outputs": [],
   "source": [
    "import pandas as pd\n"
   ]
  },
  {
   "cell_type": "code",
   "execution_count": 2,
   "metadata": {},
   "outputs": [],
   "source": [
    "#importing CSV using pandas DF\n",
    "df = pd.read_csv('2 ANUPoll2018Data_CSV_01428.csv',na_values=' ')"
   ]
  },
  {
   "cell_type": "markdown",
   "metadata": {},
   "source": [
    "## Data Inpsection"
   ]
  },
  {
   "cell_type": "code",
   "execution_count": 3,
   "metadata": {
    "scrolled": true
   },
   "outputs": [
    {
     "data": {
      "text/html": [
       "<div>\n",
       "<style scoped>\n",
       "    .dataframe tbody tr th:only-of-type {\n",
       "        vertical-align: middle;\n",
       "    }\n",
       "\n",
       "    .dataframe tbody tr th {\n",
       "        vertical-align: top;\n",
       "    }\n",
       "\n",
       "    .dataframe thead th {\n",
       "        text-align: right;\n",
       "    }\n",
       "</style>\n",
       "<table border=\"1\" class=\"dataframe\">\n",
       "  <thead>\n",
       "    <tr style=\"text-align: right;\">\n",
       "      <th></th>\n",
       "      <th>srcid</th>\n",
       "      <th>IntDate</th>\n",
       "      <th>Mode</th>\n",
       "      <th>Q1_CF_Order</th>\n",
       "      <th>Q1</th>\n",
       "      <th>Q2</th>\n",
       "      <th>Q2_Oth</th>\n",
       "      <th>Q3</th>\n",
       "      <th>Q3_Oth</th>\n",
       "      <th>Q4</th>\n",
       "      <th>...</th>\n",
       "      <th>wt_volunteer</th>\n",
       "      <th>wt_design</th>\n",
       "      <th>wt_propensit</th>\n",
       "      <th>wt_base</th>\n",
       "      <th>wt_wave</th>\n",
       "      <th>weight</th>\n",
       "      <th>StateMap</th>\n",
       "      <th>p_gender_sdc</th>\n",
       "      <th>p_age_group_sdc</th>\n",
       "      <th>p_education_sdc</th>\n",
       "    </tr>\n",
       "  </thead>\n",
       "  <tbody>\n",
       "    <tr>\n",
       "      <th>0</th>\n",
       "      <td>32</td>\n",
       "      <td>14-OCT-18</td>\n",
       "      <td>2</td>\n",
       "      <td>2</td>\n",
       "      <td>2</td>\n",
       "      <td>19</td>\n",
       "      <td>NaN</td>\n",
       "      <td>16.0</td>\n",
       "      <td>NaN</td>\n",
       "      <td>3</td>\n",
       "      <td>...</td>\n",
       "      <td>1</td>\n",
       "      <td>4695.4258</td>\n",
       "      <td>1.114882</td>\n",
       "      <td>5276.692042</td>\n",
       "      <td>1067.142227</td>\n",
       "      <td>0.120183</td>\n",
       "      <td>1</td>\n",
       "      <td>2.0</td>\n",
       "      <td>3.0</td>\n",
       "      <td>1.0</td>\n",
       "    </tr>\n",
       "    <tr>\n",
       "      <th>1</th>\n",
       "      <td>275</td>\n",
       "      <td>09-OCT-18</td>\n",
       "      <td>2</td>\n",
       "      <td>2</td>\n",
       "      <td>2</td>\n",
       "      <td>11</td>\n",
       "      <td>NaN</td>\n",
       "      <td>12.0</td>\n",
       "      <td>NaN</td>\n",
       "      <td>1</td>\n",
       "      <td>...</td>\n",
       "      <td>1</td>\n",
       "      <td>4997.3515</td>\n",
       "      <td>1.052563</td>\n",
       "      <td>5302.078168</td>\n",
       "      <td>1135.761705</td>\n",
       "      <td>0.127911</td>\n",
       "      <td>1</td>\n",
       "      <td>2.0</td>\n",
       "      <td>4.0</td>\n",
       "      <td>1.0</td>\n",
       "    </tr>\n",
       "    <tr>\n",
       "      <th>2</th>\n",
       "      <td>1180</td>\n",
       "      <td>10-OCT-18</td>\n",
       "      <td>2</td>\n",
       "      <td>2</td>\n",
       "      <td>2</td>\n",
       "      <td>-99</td>\n",
       "      <td>NaN</td>\n",
       "      <td>NaN</td>\n",
       "      <td>NaN</td>\n",
       "      <td>3</td>\n",
       "      <td>...</td>\n",
       "      <td>2</td>\n",
       "      <td>16529.8031</td>\n",
       "      <td>1.052563</td>\n",
       "      <td>17537.751375</td>\n",
       "      <td>33341.543181</td>\n",
       "      <td>3.754958</td>\n",
       "      <td>1</td>\n",
       "      <td>2.0</td>\n",
       "      <td>3.0</td>\n",
       "      <td>3.0</td>\n",
       "    </tr>\n",
       "    <tr>\n",
       "      <th>3</th>\n",
       "      <td>1600</td>\n",
       "      <td>12-OCT-18</td>\n",
       "      <td>2</td>\n",
       "      <td>2</td>\n",
       "      <td>2</td>\n",
       "      <td>19</td>\n",
       "      <td>NaN</td>\n",
       "      <td>29.0</td>\n",
       "      <td>NaN</td>\n",
       "      <td>3</td>\n",
       "      <td>...</td>\n",
       "      <td>2</td>\n",
       "      <td>6108.6230</td>\n",
       "      <td>1.205618</td>\n",
       "      <td>7423.539862</td>\n",
       "      <td>5172.421973</td>\n",
       "      <td>0.582523</td>\n",
       "      <td>1</td>\n",
       "      <td>2.0</td>\n",
       "      <td>4.0</td>\n",
       "      <td>2.0</td>\n",
       "    </tr>\n",
       "    <tr>\n",
       "      <th>4</th>\n",
       "      <td>840</td>\n",
       "      <td>10-OCT-18</td>\n",
       "      <td>2</td>\n",
       "      <td>2</td>\n",
       "      <td>4</td>\n",
       "      <td>16</td>\n",
       "      <td>NaN</td>\n",
       "      <td>13.0</td>\n",
       "      <td>NaN</td>\n",
       "      <td>3</td>\n",
       "      <td>...</td>\n",
       "      <td>2</td>\n",
       "      <td>4997.3515</td>\n",
       "      <td>1.052563</td>\n",
       "      <td>5302.078168</td>\n",
       "      <td>3420.816221</td>\n",
       "      <td>0.385256</td>\n",
       "      <td>1</td>\n",
       "      <td>1.0</td>\n",
       "      <td>4.0</td>\n",
       "      <td>2.0</td>\n",
       "    </tr>\n",
       "  </tbody>\n",
       "</table>\n",
       "<p>5 rows × 134 columns</p>\n",
       "</div>"
      ],
      "text/plain": [
       "   srcid    IntDate  Mode  Q1_CF_Order  Q1  Q2 Q2_Oth    Q3 Q3_Oth  Q4  ...  \\\n",
       "0     32  14-OCT-18     2            2   2  19    NaN  16.0    NaN   3  ...   \n",
       "1    275  09-OCT-18     2            2   2  11    NaN  12.0    NaN   1  ...   \n",
       "2   1180  10-OCT-18     2            2   2 -99    NaN   NaN    NaN   3  ...   \n",
       "3   1600  12-OCT-18     2            2   2  19    NaN  29.0    NaN   3  ...   \n",
       "4    840  10-OCT-18     2            2   4  16    NaN  13.0    NaN   3  ...   \n",
       "\n",
       "  wt_volunteer   wt_design wt_propensit       wt_base       wt_wave    weight  \\\n",
       "0            1   4695.4258     1.114882   5276.692042   1067.142227  0.120183   \n",
       "1            1   4997.3515     1.052563   5302.078168   1135.761705  0.127911   \n",
       "2            2  16529.8031     1.052563  17537.751375  33341.543181  3.754958   \n",
       "3            2   6108.6230     1.205618   7423.539862   5172.421973  0.582523   \n",
       "4            2   4997.3515     1.052563   5302.078168   3420.816221  0.385256   \n",
       "\n",
       "  StateMap  p_gender_sdc  p_age_group_sdc  p_education_sdc  \n",
       "0        1           2.0              3.0              1.0  \n",
       "1        1           2.0              4.0              1.0  \n",
       "2        1           2.0              3.0              3.0  \n",
       "3        1           2.0              4.0              2.0  \n",
       "4        1           1.0              4.0              2.0  \n",
       "\n",
       "[5 rows x 134 columns]"
      ]
     },
     "execution_count": 3,
     "metadata": {},
     "output_type": "execute_result"
    }
   ],
   "source": [
    "df.head(5)"
   ]
  },
  {
   "cell_type": "code",
   "execution_count": 4,
   "metadata": {},
   "outputs": [
    {
     "data": {
      "text/plain": [
       "(2150, 134)"
      ]
     },
     "execution_count": 4,
     "metadata": {},
     "output_type": "execute_result"
    }
   ],
   "source": [
    "#Getting the number of rows and columns\n",
    "df.shape"
   ]
  },
  {
   "cell_type": "code",
   "execution_count": 5,
   "metadata": {},
   "outputs": [
    {
     "data": {
      "text/html": [
       "<div>\n",
       "<style scoped>\n",
       "    .dataframe tbody tr th:only-of-type {\n",
       "        vertical-align: middle;\n",
       "    }\n",
       "\n",
       "    .dataframe tbody tr th {\n",
       "        vertical-align: top;\n",
       "    }\n",
       "\n",
       "    .dataframe thead th {\n",
       "        text-align: right;\n",
       "    }\n",
       "</style>\n",
       "<table border=\"1\" class=\"dataframe\">\n",
       "  <thead>\n",
       "    <tr style=\"text-align: right;\">\n",
       "      <th></th>\n",
       "      <th>srcid</th>\n",
       "      <th>IntDate</th>\n",
       "      <th>Mode</th>\n",
       "      <th>Q1_CF_Order</th>\n",
       "      <th>Q1</th>\n",
       "      <th>Q2</th>\n",
       "      <th>Q2_Oth</th>\n",
       "      <th>Q3</th>\n",
       "      <th>Q3_Oth</th>\n",
       "      <th>Q4</th>\n",
       "      <th>...</th>\n",
       "      <th>wt_volunteer</th>\n",
       "      <th>wt_design</th>\n",
       "      <th>wt_propensit</th>\n",
       "      <th>wt_base</th>\n",
       "      <th>wt_wave</th>\n",
       "      <th>weight</th>\n",
       "      <th>StateMap</th>\n",
       "      <th>p_gender_sdc</th>\n",
       "      <th>p_age_group_sdc</th>\n",
       "      <th>p_education_sdc</th>\n",
       "    </tr>\n",
       "  </thead>\n",
       "  <tbody>\n",
       "    <tr>\n",
       "      <th>798</th>\n",
       "      <td>331</td>\n",
       "      <td>17-OCT-18</td>\n",
       "      <td>2</td>\n",
       "      <td>2</td>\n",
       "      <td>4</td>\n",
       "      <td>35</td>\n",
       "      <td>NaN</td>\n",
       "      <td>1.0</td>\n",
       "      <td>NaN</td>\n",
       "      <td>3</td>\n",
       "      <td>...</td>\n",
       "      <td>2</td>\n",
       "      <td>7457.8144</td>\n",
       "      <td>1.114882</td>\n",
       "      <td>8381.048188</td>\n",
       "      <td>1694.957818</td>\n",
       "      <td>0.190888</td>\n",
       "      <td>8</td>\n",
       "      <td>1.0</td>\n",
       "      <td>2.0</td>\n",
       "      <td>1.0</td>\n",
       "    </tr>\n",
       "    <tr>\n",
       "      <th>1423</th>\n",
       "      <td>2528</td>\n",
       "      <td>19-OCT-18</td>\n",
       "      <td>2</td>\n",
       "      <td>2</td>\n",
       "      <td>2</td>\n",
       "      <td>6</td>\n",
       "      <td>NaN</td>\n",
       "      <td>96.0</td>\n",
       "      <td>Mushrooming of popular opinion campaign groups...</td>\n",
       "      <td>-98</td>\n",
       "      <td>...</td>\n",
       "      <td>1</td>\n",
       "      <td>7007.2345</td>\n",
       "      <td>2.700689</td>\n",
       "      <td>19075.641189</td>\n",
       "      <td>1592.553295</td>\n",
       "      <td>0.179355</td>\n",
       "      <td>8</td>\n",
       "      <td>2.0</td>\n",
       "      <td>2.0</td>\n",
       "      <td>1.0</td>\n",
       "    </tr>\n",
       "    <tr>\n",
       "      <th>1560</th>\n",
       "      <td>1729</td>\n",
       "      <td>13-OCT-18</td>\n",
       "      <td>1</td>\n",
       "      <td>2</td>\n",
       "      <td>5</td>\n",
       "      <td>13</td>\n",
       "      <td>NaN</td>\n",
       "      <td>27.0</td>\n",
       "      <td>NaN</td>\n",
       "      <td>5</td>\n",
       "      <td>...</td>\n",
       "      <td>2</td>\n",
       "      <td>12300.5481</td>\n",
       "      <td>2.700689</td>\n",
       "      <td>29175.259286</td>\n",
       "      <td>54122.411640</td>\n",
       "      <td>6.095320</td>\n",
       "      <td>5</td>\n",
       "      <td>1.0</td>\n",
       "      <td>4.0</td>\n",
       "      <td>3.0</td>\n",
       "    </tr>\n",
       "    <tr>\n",
       "      <th>1528</th>\n",
       "      <td>2388</td>\n",
       "      <td>18-OCT-18</td>\n",
       "      <td>1</td>\n",
       "      <td>2</td>\n",
       "      <td>4</td>\n",
       "      <td>19</td>\n",
       "      <td>NaN</td>\n",
       "      <td>13.0</td>\n",
       "      <td>NaN</td>\n",
       "      <td>1</td>\n",
       "      <td>...</td>\n",
       "      <td>2</td>\n",
       "      <td>6108.6230</td>\n",
       "      <td>2.700689</td>\n",
       "      <td>16629.370761</td>\n",
       "      <td>24162.955867</td>\n",
       "      <td>2.721256</td>\n",
       "      <td>1</td>\n",
       "      <td>1.0</td>\n",
       "      <td>3.0</td>\n",
       "      <td>3.0</td>\n",
       "    </tr>\n",
       "    <tr>\n",
       "      <th>1124</th>\n",
       "      <td>1919</td>\n",
       "      <td>17-OCT-18</td>\n",
       "      <td>2</td>\n",
       "      <td>1</td>\n",
       "      <td>2</td>\n",
       "      <td>-98</td>\n",
       "      <td>NaN</td>\n",
       "      <td>NaN</td>\n",
       "      <td>NaN</td>\n",
       "      <td>1</td>\n",
       "      <td>...</td>\n",
       "      <td>2</td>\n",
       "      <td>4695.4258</td>\n",
       "      <td>1.052563</td>\n",
       "      <td>4981.741753</td>\n",
       "      <td>7048.259485</td>\n",
       "      <td>0.793782</td>\n",
       "      <td>3</td>\n",
       "      <td>1.0</td>\n",
       "      <td>3.0</td>\n",
       "      <td>3.0</td>\n",
       "    </tr>\n",
       "    <tr>\n",
       "      <th>606</th>\n",
       "      <td>345</td>\n",
       "      <td>09-OCT-18</td>\n",
       "      <td>2</td>\n",
       "      <td>2</td>\n",
       "      <td>2</td>\n",
       "      <td>16</td>\n",
       "      <td>NaN</td>\n",
       "      <td>35.0</td>\n",
       "      <td>NaN</td>\n",
       "      <td>3</td>\n",
       "      <td>...</td>\n",
       "      <td>1</td>\n",
       "      <td>4695.4258</td>\n",
       "      <td>1.052563</td>\n",
       "      <td>4981.741753</td>\n",
       "      <td>1067.142227</td>\n",
       "      <td>0.120183</td>\n",
       "      <td>3</td>\n",
       "      <td>1.0</td>\n",
       "      <td>4.0</td>\n",
       "      <td>1.0</td>\n",
       "    </tr>\n",
       "    <tr>\n",
       "      <th>2054</th>\n",
       "      <td>2465</td>\n",
       "      <td>18-OCT-18</td>\n",
       "      <td>2</td>\n",
       "      <td>1</td>\n",
       "      <td>2</td>\n",
       "      <td>-98</td>\n",
       "      <td>NaN</td>\n",
       "      <td>NaN</td>\n",
       "      <td>NaN</td>\n",
       "      <td>-98</td>\n",
       "      <td>...</td>\n",
       "      <td>2</td>\n",
       "      <td>6127.3048</td>\n",
       "      <td>1.205618</td>\n",
       "      <td>7446.243028</td>\n",
       "      <td>20654.875594</td>\n",
       "      <td>2.326173</td>\n",
       "      <td>2</td>\n",
       "      <td>2.0</td>\n",
       "      <td>1.0</td>\n",
       "      <td>2.0</td>\n",
       "    </tr>\n",
       "    <tr>\n",
       "      <th>125</th>\n",
       "      <td>1813</td>\n",
       "      <td>14-OCT-18</td>\n",
       "      <td>2</td>\n",
       "      <td>1</td>\n",
       "      <td>1</td>\n",
       "      <td>37</td>\n",
       "      <td>NaN</td>\n",
       "      <td>1.0</td>\n",
       "      <td>NaN</td>\n",
       "      <td>3</td>\n",
       "      <td>...</td>\n",
       "      <td>2</td>\n",
       "      <td>4695.4258</td>\n",
       "      <td>1.205618</td>\n",
       "      <td>5706.143691</td>\n",
       "      <td>6185.456145</td>\n",
       "      <td>0.696612</td>\n",
       "      <td>3</td>\n",
       "      <td>2.0</td>\n",
       "      <td>2.0</td>\n",
       "      <td>1.0</td>\n",
       "    </tr>\n",
       "    <tr>\n",
       "      <th>1247</th>\n",
       "      <td>761</td>\n",
       "      <td>10-OCT-18</td>\n",
       "      <td>2</td>\n",
       "      <td>2</td>\n",
       "      <td>5</td>\n",
       "      <td>20</td>\n",
       "      <td>NaN</td>\n",
       "      <td>1.0</td>\n",
       "      <td>NaN</td>\n",
       "      <td>3</td>\n",
       "      <td>...</td>\n",
       "      <td>1</td>\n",
       "      <td>3530.6146</td>\n",
       "      <td>1.052563</td>\n",
       "      <td>3745.903123</td>\n",
       "      <td>802.412409</td>\n",
       "      <td>0.090368</td>\n",
       "      <td>1</td>\n",
       "      <td>1.0</td>\n",
       "      <td>3.0</td>\n",
       "      <td>1.0</td>\n",
       "    </tr>\n",
       "    <tr>\n",
       "      <th>654</th>\n",
       "      <td>680</td>\n",
       "      <td>10-OCT-18</td>\n",
       "      <td>2</td>\n",
       "      <td>2</td>\n",
       "      <td>2</td>\n",
       "      <td>11</td>\n",
       "      <td>NaN</td>\n",
       "      <td>13.0</td>\n",
       "      <td>NaN</td>\n",
       "      <td>1</td>\n",
       "      <td>...</td>\n",
       "      <td>2</td>\n",
       "      <td>8242.3830</td>\n",
       "      <td>1.412872</td>\n",
       "      <td>11738.526701</td>\n",
       "      <td>14417.996045</td>\n",
       "      <td>1.623769</td>\n",
       "      <td>4</td>\n",
       "      <td>1.0</td>\n",
       "      <td>4.0</td>\n",
       "      <td>3.0</td>\n",
       "    </tr>\n",
       "  </tbody>\n",
       "</table>\n",
       "<p>10 rows × 134 columns</p>\n",
       "</div>"
      ],
      "text/plain": [
       "      srcid    IntDate  Mode  Q1_CF_Order  Q1  Q2 Q2_Oth    Q3  \\\n",
       "798     331  17-OCT-18     2            2   4  35    NaN   1.0   \n",
       "1423   2528  19-OCT-18     2            2   2   6    NaN  96.0   \n",
       "1560   1729  13-OCT-18     1            2   5  13    NaN  27.0   \n",
       "1528   2388  18-OCT-18     1            2   4  19    NaN  13.0   \n",
       "1124   1919  17-OCT-18     2            1   2 -98    NaN   NaN   \n",
       "606     345  09-OCT-18     2            2   2  16    NaN  35.0   \n",
       "2054   2465  18-OCT-18     2            1   2 -98    NaN   NaN   \n",
       "125    1813  14-OCT-18     2            1   1  37    NaN   1.0   \n",
       "1247    761  10-OCT-18     2            2   5  20    NaN   1.0   \n",
       "654     680  10-OCT-18     2            2   2  11    NaN  13.0   \n",
       "\n",
       "                                                 Q3_Oth  Q4  ... wt_volunteer  \\\n",
       "798                                                 NaN   3  ...            2   \n",
       "1423  Mushrooming of popular opinion campaign groups... -98  ...            1   \n",
       "1560                                                NaN   5  ...            2   \n",
       "1528                                                NaN   1  ...            2   \n",
       "1124                                                NaN   1  ...            2   \n",
       "606                                                 NaN   3  ...            1   \n",
       "2054                                                NaN -98  ...            2   \n",
       "125                                                 NaN   3  ...            2   \n",
       "1247                                                NaN   3  ...            1   \n",
       "654                                                 NaN   1  ...            2   \n",
       "\n",
       "       wt_design wt_propensit       wt_base       wt_wave    weight StateMap  \\\n",
       "798    7457.8144     1.114882   8381.048188   1694.957818  0.190888        8   \n",
       "1423   7007.2345     2.700689  19075.641189   1592.553295  0.179355        8   \n",
       "1560  12300.5481     2.700689  29175.259286  54122.411640  6.095320        5   \n",
       "1528   6108.6230     2.700689  16629.370761  24162.955867  2.721256        1   \n",
       "1124   4695.4258     1.052563   4981.741753   7048.259485  0.793782        3   \n",
       "606    4695.4258     1.052563   4981.741753   1067.142227  0.120183        3   \n",
       "2054   6127.3048     1.205618   7446.243028  20654.875594  2.326173        2   \n",
       "125    4695.4258     1.205618   5706.143691   6185.456145  0.696612        3   \n",
       "1247   3530.6146     1.052563   3745.903123    802.412409  0.090368        1   \n",
       "654    8242.3830     1.412872  11738.526701  14417.996045  1.623769        4   \n",
       "\n",
       "      p_gender_sdc  p_age_group_sdc  p_education_sdc  \n",
       "798            1.0              2.0              1.0  \n",
       "1423           2.0              2.0              1.0  \n",
       "1560           1.0              4.0              3.0  \n",
       "1528           1.0              3.0              3.0  \n",
       "1124           1.0              3.0              3.0  \n",
       "606            1.0              4.0              1.0  \n",
       "2054           2.0              1.0              2.0  \n",
       "125            2.0              2.0              1.0  \n",
       "1247           1.0              3.0              1.0  \n",
       "654            1.0              4.0              3.0  \n",
       "\n",
       "[10 rows x 134 columns]"
      ]
     },
     "execution_count": 5,
     "metadata": {},
     "output_type": "execute_result"
    }
   ],
   "source": [
    "#Checking what the data looks like by random sampling\n",
    "df.sample(10)"
   ]
  },
  {
   "cell_type": "code",
   "execution_count": 6,
   "metadata": {},
   "outputs": [
    {
     "name": "stdout",
     "output_type": "stream",
     "text": [
      "<class 'pandas.core.frame.DataFrame'>\n",
      "RangeIndex: 2150 entries, 0 to 2149\n",
      "Columns: 134 entries, srcid to p_education_sdc\n",
      "dtypes: float64(68), int64(55), object(11)\n",
      "memory usage: 2.2+ MB\n"
     ]
    }
   ],
   "source": [
    "df.info()"
   ]
  },
  {
   "cell_type": "markdown",
   "metadata": {},
   "source": [
    "#### Given that the dataframe is too big, python can't show all the basic stats of the data. I will need to select the columns that I need. for my analysis to make the data frame smaller"
   ]
  },
  {
   "cell_type": "code",
   "execution_count": 7,
   "metadata": {},
   "outputs": [
    {
     "data": {
      "text/plain": [
       "09-OCT-18    563\n",
       "10-OCT-18    364\n",
       "11-OCT-18    285\n",
       "13-OCT-18    180\n",
       "12-OCT-18    159\n",
       "16-OCT-18    141\n",
       "14-OCT-18     95\n",
       "19-OCT-18     80\n",
       "15-OCT-18     73\n",
       "17-OCT-18     62\n",
       "18-OCT-18     55\n",
       "20-OCT-18     38\n",
       "21-OCT-18     37\n",
       "08-OCT-18     16\n",
       "22-OCT-18      2\n",
       "Name: IntDate, dtype: int64"
      ]
     },
     "execution_count": 7,
     "metadata": {},
     "output_type": "execute_result"
    }
   ],
   "source": [
    "df.IntDate.value_counts()"
   ]
  },
  {
   "cell_type": "code",
   "execution_count": 8,
   "metadata": {},
   "outputs": [
    {
     "data": {
      "text/plain": [
       "881     2\n",
       "391     2\n",
       "2046    2\n",
       "1712    2\n",
       "926     2\n",
       "Name: Mode, dtype: int64"
      ]
     },
     "execution_count": 8,
     "metadata": {},
     "output_type": "execute_result"
    }
   ],
   "source": [
    "df.Mode.sample(5)"
   ]
  },
  {
   "cell_type": "code",
   "execution_count": 9,
   "metadata": {},
   "outputs": [
    {
     "data": {
      "text/plain": [
       " 2     1137\n",
       " 4      709\n",
       " 1      153\n",
       " 5      132\n",
       " 3       17\n",
       "-98       2\n",
       "Name: Q1, dtype: int64"
      ]
     },
     "execution_count": 9,
     "metadata": {},
     "output_type": "execute_result"
    }
   ],
   "source": [
    "df.Q1.value_counts()"
   ]
  },
  {
   "cell_type": "code",
   "execution_count": 10,
   "metadata": {},
   "outputs": [
    {
     "data": {
      "text/plain": [
       " 1     354\n",
       " 16    335\n",
       " 11    317\n",
       " 13    244\n",
       " 20     96\n",
       "-98     90\n",
       " 36     80\n",
       " 4      80\n",
       " 19     69\n",
       " 96     55\n",
       " 5      54\n",
       " 17     50\n",
       " 32     42\n",
       " 29     38\n",
       " 6      31\n",
       " 35     31\n",
       " 34     28\n",
       " 30     27\n",
       "-99     19\n",
       " 37     18\n",
       " 28     13\n",
       " 2      11\n",
       " 18     10\n",
       " 8      10\n",
       " 33      9\n",
       " 12      8\n",
       " 15      7\n",
       " 27      6\n",
       " 14      6\n",
       " 26      5\n",
       " 31      3\n",
       "-96      2\n",
       " 7       2\n",
       "Name: Q2, dtype: int64"
      ]
     },
     "execution_count": 10,
     "metadata": {},
     "output_type": "execute_result"
    }
   ],
   "source": [
    "df.Q2.value_counts()"
   ]
  },
  {
   "cell_type": "code",
   "execution_count": 11,
   "metadata": {},
   "outputs": [
    {
     "data": {
      "text/plain": [
       "1415    2\n",
       "103     1\n",
       "448     1\n",
       "320     1\n",
       "1924    1\n",
       "Name: wt_internet, dtype: int64"
      ]
     },
     "execution_count": 11,
     "metadata": {},
     "output_type": "execute_result"
    }
   ],
   "source": [
    "df.wt_internet.sample(5)"
   ]
  },
  {
   "cell_type": "code",
   "execution_count": 12,
   "metadata": {},
   "outputs": [
    {
     "data": {
      "text/plain": [
       "2    1354\n",
       "1     796\n",
       "Name: wt_volunteer, dtype: int64"
      ]
     },
     "execution_count": 12,
     "metadata": {},
     "output_type": "execute_result"
    }
   ],
   "source": [
    "df.wt_volunteer.value_counts()"
   ]
  },
  {
   "cell_type": "code",
   "execution_count": 13,
   "metadata": {},
   "outputs": [
    {
     "data": {
      "text/plain": [
       "629     -1\n",
       "12       6\n",
       "159     12\n",
       "143     12\n",
       "1669     1\n",
       "Name: sOSName, dtype: int64"
      ]
     },
     "execution_count": 13,
     "metadata": {},
     "output_type": "execute_result"
    }
   ],
   "source": [
    "df.sOSName.sample(5)"
   ]
  },
  {
   "cell_type": "code",
   "execution_count": 14,
   "metadata": {},
   "outputs": [
    {
     "data": {
      "text/plain": [
       " 3     650\n",
       " 1     604\n",
       " 4     327\n",
       "-98    115\n",
       " 2      86\n",
       " 97     61\n",
       " 6      60\n",
       " 11     53\n",
       " 5      49\n",
       " 96     47\n",
       "-99     32\n",
       " 8      12\n",
       " 95     12\n",
       " 13      8\n",
       " 16      6\n",
       " 15      5\n",
       " 17      4\n",
       " 32      4\n",
       " 24      4\n",
       " 10      4\n",
       " 20      2\n",
       " 34      1\n",
       " 28      1\n",
       " 22      1\n",
       " 39      1\n",
       " 36      1\n",
       "Name: Q4, dtype: int64"
      ]
     },
     "execution_count": 14,
     "metadata": {},
     "output_type": "execute_result"
    }
   ],
   "source": [
    "df.Q4.value_counts()"
   ]
  },
  {
   "cell_type": "code",
   "execution_count": 15,
   "metadata": {},
   "outputs": [
    {
     "data": {
      "text/plain": [
       " 1.0     345\n",
       " 16.0    229\n",
       " 11.0    226\n",
       " 13.0    164\n",
       " 20.0    117\n",
       " 96.0     94\n",
       " 5.0      85\n",
       " 4.0      80\n",
       " 29.0     70\n",
       " 6.0      66\n",
       " 36.0     57\n",
       " 17.0     56\n",
       " 19.0     47\n",
       " 30.0     44\n",
       " 28.0     42\n",
       " 32.0     40\n",
       " 37.0     40\n",
       " 35.0     38\n",
       "-98.0     32\n",
       " 34.0     28\n",
       " 2.0      24\n",
       " 33.0     21\n",
       " 27.0     18\n",
       " 15.0     11\n",
       " 18.0     11\n",
       " 14.0     10\n",
       " 8.0       8\n",
       " 7.0       7\n",
       " 26.0      7\n",
       " 12.0      7\n",
       " 31.0      5\n",
       "-99.0      5\n",
       "-96.0      4\n",
       " 3.0       1\n",
       "Name: Q3, dtype: int64"
      ]
     },
     "execution_count": 15,
     "metadata": {},
     "output_type": "execute_result"
    }
   ],
   "source": [
    "df.Q3.value_counts()"
   ]
  },
  {
   "cell_type": "code",
   "execution_count": 16,
   "metadata": {},
   "outputs": [
    {
     "data": {
      "text/plain": [
       " 2     1137\n",
       " 4      709\n",
       " 1      153\n",
       " 5      132\n",
       " 3       17\n",
       "-98       2\n",
       "Name: Q1, dtype: int64"
      ]
     },
     "execution_count": 16,
     "metadata": {},
     "output_type": "execute_result"
    }
   ],
   "source": [
    "df.Q1.value_counts()"
   ]
  },
  {
   "cell_type": "code",
   "execution_count": 17,
   "metadata": {},
   "outputs": [
    {
     "data": {
      "text/plain": [
       "-99    2150\n",
       "Name: wt_sex, dtype: int64"
      ]
     },
     "execution_count": 17,
     "metadata": {},
     "output_type": "execute_result"
    }
   ],
   "source": [
    "df.wt_sex.value_counts()"
   ]
  },
  {
   "cell_type": "code",
   "execution_count": 18,
   "metadata": {},
   "outputs": [
    {
     "data": {
      "text/plain": [
       "1    2069\n",
       "2      81\n",
       "Name: wt_internet, dtype: int64"
      ]
     },
     "execution_count": 18,
     "metadata": {},
     "output_type": "execute_result"
    }
   ],
   "source": [
    "df.wt_internet.value_counts()"
   ]
  },
  {
   "cell_type": "code",
   "execution_count": 19,
   "metadata": {},
   "outputs": [
    {
     "data": {
      "text/plain": [
       "-99    2150\n",
       "Name: p_region, dtype: int64"
      ]
     },
     "execution_count": 19,
     "metadata": {},
     "output_type": "execute_result"
    }
   ],
   "source": [
    "df.p_region.value_counts()"
   ]
  },
  {
   "cell_type": "code",
   "execution_count": 20,
   "metadata": {},
   "outputs": [
    {
     "data": {
      "text/plain": [
       "-99    2150\n",
       "Name: p_geography, dtype: int64"
      ]
     },
     "execution_count": 20,
     "metadata": {},
     "output_type": "execute_result"
    }
   ],
   "source": [
    "df.p_geography.value_counts()"
   ]
  },
  {
   "cell_type": "code",
   "execution_count": 21,
   "metadata": {},
   "outputs": [
    {
     "data": {
      "text/plain": [
       "1    1074\n",
       "3     538\n",
       "2     538\n",
       "Name: Q9_DUM, dtype: int64"
      ]
     },
     "execution_count": 21,
     "metadata": {},
     "output_type": "execute_result"
    }
   ],
   "source": [
    "df.Q9_DUM.value_counts()"
   ]
  },
  {
   "cell_type": "code",
   "execution_count": 22,
   "metadata": {},
   "outputs": [
    {
     "data": {
      "text/plain": [
       "0.0    923\n",
       "1.0     23\n",
       "Name: Q9a_CLICK, dtype: int64"
      ]
     },
     "execution_count": 22,
     "metadata": {},
     "output_type": "execute_result"
    }
   ],
   "source": [
    "df.Q9a_CLICK.value_counts()"
   ]
  },
  {
   "cell_type": "code",
   "execution_count": 23,
   "metadata": {},
   "outputs": [
    {
     "data": {
      "text/plain": [
       "0.0    455\n",
       "1.0     14\n",
       "Name: Q9b_CLICK, dtype: int64"
      ]
     },
     "execution_count": 23,
     "metadata": {},
     "output_type": "execute_result"
    }
   ],
   "source": [
    "df.Q9b_CLICK.value_counts()"
   ]
  },
  {
   "cell_type": "code",
   "execution_count": 24,
   "metadata": {},
   "outputs": [
    {
     "data": {
      "text/plain": [
       "0.0    465\n",
       "1.0     13\n",
       "Name: Q9c_CLICK, dtype: int64"
      ]
     },
     "execution_count": 24,
     "metadata": {},
     "output_type": "execute_result"
    }
   ],
   "source": [
    "df.Q9c_CLICK.value_counts()"
   ]
  },
  {
   "cell_type": "code",
   "execution_count": 25,
   "metadata": {},
   "outputs": [
    {
     "data": {
      "text/plain": [
       "-99    2150\n",
       "Name: wt_geography, dtype: int64"
      ]
     },
     "execution_count": 25,
     "metadata": {},
     "output_type": "execute_result"
    }
   ],
   "source": [
    "df.wt_geography.value_counts()"
   ]
  },
  {
   "cell_type": "code",
   "execution_count": 26,
   "metadata": {},
   "outputs": [
    {
     "data": {
      "text/plain": [
       "15.000000    39\n",
       "0.220000     29\n",
       "1.116667     26\n",
       "1.250000     25\n",
       "0.650000     24\n",
       "             ..\n",
       "5.216667      1\n",
       "3.816667      1\n",
       "4.050000      1\n",
       "5.650000      1\n",
       "5.850000      1\n",
       "Name: Sect_0_time, Length: 413, dtype: int64"
      ]
     },
     "execution_count": 26,
     "metadata": {},
     "output_type": "execute_result"
    }
   ],
   "source": [
    "df.Sect_0_time.value_counts()"
   ]
  },
  {
   "cell_type": "code",
   "execution_count": 27,
   "metadata": {},
   "outputs": [
    {
     "data": {
      "text/plain": [
       "count    2010.000000\n",
       "mean        2.439567\n",
       "std         2.714601\n",
       "min         0.216667\n",
       "25%         1.000000\n",
       "50%         1.550000\n",
       "75%         2.600000\n",
       "max        15.000000\n",
       "Name: Sect_0_time, dtype: float64"
      ]
     },
     "execution_count": 27,
     "metadata": {},
     "output_type": "execute_result"
    }
   ],
   "source": [
    "df.Sect_0_time.describe()"
   ]
  },
  {
   "cell_type": "code",
   "execution_count": 28,
   "metadata": {},
   "outputs": [
    {
     "data": {
      "text/plain": [
       "count    2034.000000\n",
       "mean        1.769027\n",
       "std         1.784668\n",
       "min         0.200000\n",
       "25%         1.033333\n",
       "50%         1.383333\n",
       "75%         1.883333\n",
       "max        15.000000\n",
       "Name: Sect_1_time, dtype: float64"
      ]
     },
     "execution_count": 28,
     "metadata": {},
     "output_type": "execute_result"
    }
   ],
   "source": [
    "df.Sect_1_time.describe()"
   ]
  },
  {
   "cell_type": "code",
   "execution_count": 29,
   "metadata": {},
   "outputs": [
    {
     "data": {
      "text/plain": [
       "count    1074.000000\n",
       "mean        0.595950\n",
       "std         1.275083\n",
       "min         0.100000\n",
       "25%         0.133333\n",
       "50%         0.316667\n",
       "75%         0.666667\n",
       "max        15.000000\n",
       "Name: Sect_16_time, dtype: float64"
      ]
     },
     "execution_count": 29,
     "metadata": {},
     "output_type": "execute_result"
    }
   ],
   "source": [
    "df.Sect_16_time.describe()"
   ]
  },
  {
   "cell_type": "code",
   "execution_count": 30,
   "metadata": {},
   "outputs": [
    {
     "data": {
      "text/plain": [
       "count    1073.000000\n",
       "mean        1.865427\n",
       "std         2.081636\n",
       "min         0.130000\n",
       "25%         1.000000\n",
       "50%         1.383333\n",
       "75%         1.883333\n",
       "max        15.000000\n",
       "Name: Sect_15_time, dtype: float64"
      ]
     },
     "execution_count": 30,
     "metadata": {},
     "output_type": "execute_result"
    }
   ],
   "source": [
    "df.Sect_15_time.describe()"
   ]
  },
  {
   "cell_type": "code",
   "execution_count": 31,
   "metadata": {},
   "outputs": [
    {
     "data": {
      "text/plain": [
       "2.0    1131\n",
       "1.0    1015\n",
       "Name: p_gender_sdc, dtype: int64"
      ]
     },
     "execution_count": 31,
     "metadata": {},
     "output_type": "execute_result"
    }
   ],
   "source": [
    "df.p_gender_sdc.value_counts()"
   ]
  },
  {
   "cell_type": "code",
   "execution_count": 32,
   "metadata": {},
   "outputs": [
    {
     "data": {
      "text/plain": [
       "1.0    949\n",
       "2.0    567\n",
       "3.0    561\n",
       "Name: p_education_sdc, dtype: int64"
      ]
     },
     "execution_count": 32,
     "metadata": {},
     "output_type": "execute_result"
    }
   ],
   "source": [
    "df.p_education_sdc.value_counts()"
   ]
  },
  {
   "cell_type": "code",
   "execution_count": 33,
   "metadata": {},
   "outputs": [
    {
     "data": {
      "text/plain": [
       "4.0    663\n",
       "3.0    623\n",
       "2.0    609\n",
       "1.0    213\n",
       "Name: p_age_group_sdc, dtype: int64"
      ]
     },
     "execution_count": 33,
     "metadata": {},
     "output_type": "execute_result"
    }
   ],
   "source": [
    "df.p_age_group_sdc.value_counts()"
   ]
  },
  {
   "cell_type": "code",
   "execution_count": 34,
   "metadata": {},
   "outputs": [
    {
     "data": {
      "text/plain": [
       " 2     1137\n",
       " 4      709\n",
       " 1      153\n",
       " 5      132\n",
       " 3       17\n",
       "-98       2\n",
       "Name: Q1, dtype: int64"
      ]
     },
     "execution_count": 34,
     "metadata": {},
     "output_type": "execute_result"
    }
   ],
   "source": [
    "df.Q1.value_counts()"
   ]
  },
  {
   "cell_type": "code",
   "execution_count": 35,
   "metadata": {},
   "outputs": [
    {
     "data": {
      "text/plain": [
       " 2.0     572\n",
       " 3.0     266\n",
       " 1.0     236\n",
       "-98.0      2\n",
       "Name: Q11, dtype: int64"
      ]
     },
     "execution_count": 35,
     "metadata": {},
     "output_type": "execute_result"
    }
   ],
   "source": [
    "df.Q11.value_counts()"
   ]
  },
  {
   "cell_type": "code",
   "execution_count": 36,
   "metadata": {},
   "outputs": [
    {
     "data": {
      "text/plain": [
       " 3.0     389\n",
       " 2.0     356\n",
       " 1.0     174\n",
       " 4.0     117\n",
       "-98.0     37\n",
       "-99.0      1\n",
       "Name: Q16, dtype: int64"
      ]
     },
     "execution_count": 36,
     "metadata": {},
     "output_type": "execute_result"
    }
   ],
   "source": [
    "df.Q16.value_counts()"
   ]
  },
  {
   "cell_type": "code",
   "execution_count": 37,
   "metadata": {},
   "outputs": [
    {
     "data": {
      "text/plain": [
       " 3.0     486\n",
       " 2.0     340\n",
       " 1.0     135\n",
       " 4.0      55\n",
       "-98.0     50\n",
       "-99.0      8\n",
       "Name: Q18, dtype: int64"
      ]
     },
     "execution_count": 37,
     "metadata": {},
     "output_type": "execute_result"
    }
   ],
   "source": [
    "df.Q18.value_counts()"
   ]
  },
  {
   "cell_type": "code",
   "execution_count": 38,
   "metadata": {},
   "outputs": [
    {
     "data": {
      "text/plain": [
       " 3.0     499\n",
       " 2.0     332\n",
       " 1.0     135\n",
       " 4.0      74\n",
       "-98.0     33\n",
       "-99.0      1\n",
       "Name: Q19a, dtype: int64"
      ]
     },
     "execution_count": 38,
     "metadata": {},
     "output_type": "execute_result"
    }
   ],
   "source": [
    "df.Q19a.value_counts()"
   ]
  },
  {
   "cell_type": "markdown",
   "metadata": {},
   "source": [
    "### After my initial inspection, I decided to select some attributes that I am more interested that I believe will contribute to my analysis meaningfully."
   ]
  },
  {
   "cell_type": "code",
   "execution_count": 39,
   "metadata": {},
   "outputs": [],
   "source": [
    "df_selected = df[['srcid','Q1','Q2','Q4','Q6a','Q6b','Q6c','Q6d','Q7a','Q7b','Q7c','Q7d','Q7e',\\\n",
    "    'Q8a','Q8b','Q8c','Q8d','Q8e','Q8f','Q8g','Q8h',\\\n",
    "    'Q10a','Q10b','Q10c','Q10d','Q11','Q11a','Q11b','Q12',\\\n",
    "    'Q14','Q15','Q16','Q17a','Q17b','Q17c','Q17d','Q17e','Q17f',\\\n",
    "    'Q18','Q19a','Q19b','Q19c','Q19d','Q19e','Q19f','Q19g',\\\n",
    "    'p_state','p_gender_sdc','p_age_group_sdc','p_education_sdc']]"
   ]
  },
  {
   "cell_type": "code",
   "execution_count": 40,
   "metadata": {},
   "outputs": [
    {
     "data": {
      "text/plain": [
       " 3     650\n",
       " 1     604\n",
       " 4     327\n",
       "-98    115\n",
       " 2      86\n",
       " 97     61\n",
       " 6      60\n",
       " 11     53\n",
       " 5      49\n",
       " 96     47\n",
       "-99     32\n",
       " 8      12\n",
       " 95     12\n",
       " 13      8\n",
       " 16      6\n",
       " 15      5\n",
       " 17      4\n",
       " 32      4\n",
       " 24      4\n",
       " 10      4\n",
       " 20      2\n",
       " 34      1\n",
       " 28      1\n",
       " 22      1\n",
       " 39      1\n",
       " 36      1\n",
       "Name: Q4, dtype: int64"
      ]
     },
     "execution_count": 40,
     "metadata": {},
     "output_type": "execute_result"
    }
   ],
   "source": [
    "df_selected.Q4.value_counts()"
   ]
  },
  {
   "cell_type": "markdown",
   "metadata": {},
   "source": [
    "I would like to understand the impact of political orientation of the respondents and their view on certain issues in the survey. Since there were so many political parties in Q4, the results were too fragmented. I deicded to group them up to something more generic. "
   ]
  },
  {
   "cell_type": "code",
   "execution_count": 41,
   "metadata": {},
   "outputs": [
    {
     "name": "stderr",
     "output_type": "stream",
     "text": [
      "/Users/wtong/anaconda3/lib/python3.7/site-packages/pandas/core/generic.py:5303: SettingWithCopyWarning: \n",
      "A value is trying to be set on a copy of a slice from a DataFrame.\n",
      "Try using .loc[row_indexer,col_indexer] = value instead\n",
      "\n",
      "See the caveats in the documentation: https://pandas.pydata.org/pandas-docs/stable/user_guide/indexing.html#returning-a-view-versus-a-copy\n",
      "  self[name] = value\n"
     ]
    }
   ],
   "source": [
    "df_selected.Q4 = df_selected.Q4.replace(1,\"Centre-right\").replace(2,\"Centre-right\")\\\n",
    "                        .replace(3,\"Centre-left\").replace(4,\"Green\").replace(5,\"Other\")\\\n",
    "                        .replace(6,\"Centre-right\").replace(7,\"Centre\").replace(8,\"Centre-left\")\\\n",
    "                        .replace(9,\"Far-right\").replace(10,\"Right-wing\").replace(11,\"Right-wing\")\\\n",
    "                        .replace(13,\"Right-wing\").replace(14,\"Right-wing\").replace(15,\"Right-wing\")\\\n",
    "                        .replace(16,\"Right-wing\").replace(17,\"Right-wing\").replace(18,\"Other\")\\\n",
    "                        .replace(20,\"Other\").replace(22,\"Right-wing\").replace(23,\"Right-wing\")\\\n",
    "                        .replace(24,\"Centre\").replace(25,\"Far-right\").replace(26,\"Centre\")\\\n",
    "                        .replace(27,\"Far-right\").replace(28,\"Centre\").replace(29,\"Far-right\")\\\n",
    "                        .replace(30,\"Other\").replace(31,\"Other\").replace(32,\"Other\")\\\n",
    "                        .replace(33,\"Other\").replace(34,\"Centre\").replace(35,\"Centre\")\\\n",
    "                        .replace(36,\"Far-right\").replace(37,\"Centre-left\").replace(38,\"Other\")\\\n",
    "                        .replace(39,\"Other\").replace(95,\"Swing\").replace(96,\"Independent\")\\\n",
    "                        .replace(97,\"No-party\")"
   ]
  },
  {
   "cell_type": "markdown",
   "metadata": {},
   "source": []
  },
  {
   "cell_type": "code",
   "execution_count": 42,
   "metadata": {},
   "outputs": [
    {
     "data": {
      "text/plain": [
       "Centre-right    750\n",
       "Centre-left     662\n",
       "Green           327\n",
       "-98             115\n",
       "Right-wing       81\n",
       "No-party         61\n",
       "Other            56\n",
       "Independent      47\n",
       "-99              32\n",
       "Swing            12\n",
       "Centre            6\n",
       "Far-right         1\n",
       "Name: Q4, dtype: int64"
      ]
     },
     "execution_count": 42,
     "metadata": {},
     "output_type": "execute_result"
    }
   ],
   "source": [
    "df_selected.Q4.value_counts()"
   ]
  },
  {
   "cell_type": "code",
   "execution_count": null,
   "metadata": {},
   "outputs": [],
   "source": []
  },
  {
   "cell_type": "code",
   "execution_count": 43,
   "metadata": {},
   "outputs": [
    {
     "name": "stdout",
     "output_type": "stream",
     "text": [
      "<class 'pandas.core.frame.DataFrame'>\n",
      "RangeIndex: 2150 entries, 0 to 2149\n",
      "Data columns (total 50 columns):\n",
      " #   Column           Non-Null Count  Dtype  \n",
      "---  ------           --------------  -----  \n",
      " 0   srcid            2150 non-null   int64  \n",
      " 1   Q1               2150 non-null   int64  \n",
      " 2   Q2               2150 non-null   int64  \n",
      " 3   Q4               2150 non-null   object \n",
      " 4   Q6a              2150 non-null   int64  \n",
      " 5   Q6b              2150 non-null   int64  \n",
      " 6   Q6c              2150 non-null   int64  \n",
      " 7   Q6d              2150 non-null   int64  \n",
      " 8   Q7a              2150 non-null   int64  \n",
      " 9   Q7b              2150 non-null   int64  \n",
      " 10  Q7c              2150 non-null   int64  \n",
      " 11  Q7d              2150 non-null   int64  \n",
      " 12  Q7e              2150 non-null   int64  \n",
      " 13  Q8a              2146 non-null   float64\n",
      " 14  Q8b              2147 non-null   float64\n",
      " 15  Q8c              2148 non-null   float64\n",
      " 16  Q8d              2142 non-null   float64\n",
      " 17  Q8e              2145 non-null   float64\n",
      " 18  Q8f              2146 non-null   float64\n",
      " 19  Q8g              2129 non-null   float64\n",
      " 20  Q8h              2146 non-null   float64\n",
      " 21  Q10a             2150 non-null   int64  \n",
      " 22  Q10b             2150 non-null   int64  \n",
      " 23  Q10c             2150 non-null   int64  \n",
      " 24  Q10d             2150 non-null   int64  \n",
      " 25  Q11              1076 non-null   float64\n",
      " 26  Q11a             840 non-null    float64\n",
      " 27  Q11b             236 non-null    float64\n",
      " 28  Q12              1076 non-null   float64\n",
      " 29  Q14              1076 non-null   float64\n",
      " 30  Q15              1076 non-null   float64\n",
      " 31  Q16              1074 non-null   float64\n",
      " 32  Q17a             1074 non-null   float64\n",
      " 33  Q17b             1074 non-null   float64\n",
      " 34  Q17c             1074 non-null   float64\n",
      " 35  Q17d             1074 non-null   float64\n",
      " 36  Q17e             1074 non-null   float64\n",
      " 37  Q17f             1074 non-null   float64\n",
      " 38  Q18              1074 non-null   float64\n",
      " 39  Q19a             1074 non-null   float64\n",
      " 40  Q19b             1074 non-null   float64\n",
      " 41  Q19c             1074 non-null   float64\n",
      " 42  Q19d             1074 non-null   float64\n",
      " 43  Q19e             1074 non-null   float64\n",
      " 44  Q19f             1074 non-null   float64\n",
      " 45  Q19g             1074 non-null   float64\n",
      " 46  p_state          2150 non-null   int64  \n",
      " 47  p_gender_sdc     2146 non-null   float64\n",
      " 48  p_age_group_sdc  2108 non-null   float64\n",
      " 49  p_education_sdc  2077 non-null   float64\n",
      "dtypes: float64(32), int64(17), object(1)\n",
      "memory usage: 840.0+ KB\n"
     ]
    }
   ],
   "source": [
    "df_selected.info()"
   ]
  },
  {
   "cell_type": "code",
   "execution_count": 44,
   "metadata": {},
   "outputs": [],
   "source": [
    "df_converted=df_selected"
   ]
  },
  {
   "cell_type": "code",
   "execution_count": 45,
   "metadata": {},
   "outputs": [
    {
     "name": "stdout",
     "output_type": "stream",
     "text": [
      "<class 'pandas.core.frame.DataFrame'>\n",
      "RangeIndex: 2150 entries, 0 to 2149\n",
      "Data columns (total 50 columns):\n",
      " #   Column           Non-Null Count  Dtype  \n",
      "---  ------           --------------  -----  \n",
      " 0   srcid            2150 non-null   int64  \n",
      " 1   Q1               2150 non-null   int64  \n",
      " 2   Q2               2150 non-null   int64  \n",
      " 3   Q4               2150 non-null   object \n",
      " 4   Q6a              2150 non-null   int64  \n",
      " 5   Q6b              2150 non-null   int64  \n",
      " 6   Q6c              2150 non-null   int64  \n",
      " 7   Q6d              2150 non-null   int64  \n",
      " 8   Q7a              2150 non-null   int64  \n",
      " 9   Q7b              2150 non-null   int64  \n",
      " 10  Q7c              2150 non-null   int64  \n",
      " 11  Q7d              2150 non-null   int64  \n",
      " 12  Q7e              2150 non-null   int64  \n",
      " 13  Q8a              2146 non-null   float64\n",
      " 14  Q8b              2147 non-null   float64\n",
      " 15  Q8c              2148 non-null   float64\n",
      " 16  Q8d              2142 non-null   float64\n",
      " 17  Q8e              2145 non-null   float64\n",
      " 18  Q8f              2146 non-null   float64\n",
      " 19  Q8g              2129 non-null   float64\n",
      " 20  Q8h              2146 non-null   float64\n",
      " 21  Q10a             2150 non-null   int64  \n",
      " 22  Q10b             2150 non-null   int64  \n",
      " 23  Q10c             2150 non-null   int64  \n",
      " 24  Q10d             2150 non-null   int64  \n",
      " 25  Q11              1076 non-null   float64\n",
      " 26  Q11a             840 non-null    float64\n",
      " 27  Q11b             236 non-null    float64\n",
      " 28  Q12              1076 non-null   float64\n",
      " 29  Q14              1076 non-null   float64\n",
      " 30  Q15              1076 non-null   float64\n",
      " 31  Q16              1074 non-null   float64\n",
      " 32  Q17a             1074 non-null   float64\n",
      " 33  Q17b             1074 non-null   float64\n",
      " 34  Q17c             1074 non-null   float64\n",
      " 35  Q17d             1074 non-null   float64\n",
      " 36  Q17e             1074 non-null   float64\n",
      " 37  Q17f             1074 non-null   float64\n",
      " 38  Q18              1074 non-null   float64\n",
      " 39  Q19a             1074 non-null   float64\n",
      " 40  Q19b             1074 non-null   float64\n",
      " 41  Q19c             1074 non-null   float64\n",
      " 42  Q19d             1074 non-null   float64\n",
      " 43  Q19e             1074 non-null   float64\n",
      " 44  Q19f             1074 non-null   float64\n",
      " 45  Q19g             1074 non-null   float64\n",
      " 46  p_state          2150 non-null   int64  \n",
      " 47  p_gender_sdc     2146 non-null   float64\n",
      " 48  p_age_group_sdc  2108 non-null   float64\n",
      " 49  p_education_sdc  2077 non-null   float64\n",
      "dtypes: float64(32), int64(17), object(1)\n",
      "memory usage: 840.0+ KB\n"
     ]
    }
   ],
   "source": [
    "df_converted.info()"
   ]
  },
  {
   "cell_type": "code",
   "execution_count": 46,
   "metadata": {},
   "outputs": [],
   "source": [
    "df_converted_original = df_converted"
   ]
  },
  {
   "cell_type": "code",
   "execution_count": 47,
   "metadata": {},
   "outputs": [],
   "source": [
    "df_converted_original = df_converted_original.astype(str)"
   ]
  },
  {
   "cell_type": "code",
   "execution_count": 48,
   "metadata": {},
   "outputs": [],
   "source": [
    "df_converted_original['Q1'] = \"'\" + df_converted_original['Q1']+\"'\"\n",
    "df_converted_original['Q2'] = \"'\" + df_converted_original['Q2']+\"'\"\n",
    "df_converted_original['Q4'] = \"'\" + df_converted_original['Q4']+\"'\"\n",
    "df_converted_original['Q6a'] = \"'\" + df_converted_original['Q6a']+\"'\"\n",
    "df_converted_original['Q6b'] = \"'\" + df_converted_original['Q6b']+\"'\"\n",
    "df_converted_original['Q6c'] = \"'\" + df_converted_original['Q6c']+\"'\"\n",
    "df_converted_original['Q6d'] = \"'\" + df_converted_original['Q6d']+\"'\"\n",
    "df_converted_original['Q7a'] = \"'\" + df_converted_original['Q7a']+\"'\"\n",
    "df_converted_original['Q7b'] = \"'\" + df_converted_original['Q7b']+\"'\"\n",
    "df_converted_original['Q7c'] = \"'\" + df_converted_original['Q7c']+\"'\"\n",
    "df_converted_original['Q7d'] = \"'\" + df_converted_original['Q7d']+\"'\"\n",
    "df_converted_original['Q7e'] = \"'\" + df_converted_original['Q7e']+\"'\"\n",
    "df_converted_original['Q8a'] = \"'\" + df_converted_original['Q8a']+\"'\"\n",
    "df_converted_original['Q8b'] = \"'\" + df_converted_original['Q8b']+\"'\"\n",
    "df_converted_original['Q8c'] = \"'\" + df_converted_original['Q8c']+\"'\"\n",
    "df_converted_original['Q8d'] = \"'\" + df_converted_original['Q8d']+\"'\"\n",
    "df_converted_original['Q8e'] = \"'\" + df_converted_original['Q8e']+\"'\"\n",
    "df_converted_original['Q8f'] = \"'\" + df_converted_original['Q8f']+\"'\"\n",
    "df_converted_original['Q8g'] = \"'\" + df_converted_original['Q8g']+\"'\"\n",
    "df_converted_original['Q8h'] = \"'\" + df_converted_original['Q8h']+\"'\"\n",
    "df_converted_original['Q10a'] = \"'\" + df_converted_original['Q10a']+\"'\"\n",
    "df_converted_original['Q10b'] = \"'\" + df_converted_original['Q10b']+\"'\"\n",
    "df_converted_original['Q10c'] = \"'\" + df_converted_original['Q10c']+\"'\"\n",
    "df_converted_original['Q10d'] = \"'\" + df_converted_original['Q10d']+\"'\"\n",
    "df_converted_original['Q11'] = \"'\" + df_converted_original['Q11']+\"'\"\n",
    "df_converted_original['Q12'] = \"'\" + df_converted_original['Q12']+\"'\"\n",
    "df_converted_original['Q14'] = \"'\" + df_converted_original['Q14']+\"'\"\n",
    "df_converted_original['Q15'] = \"'\" + df_converted_original['Q15']+\"'\"\n",
    "df_converted_original['Q16'] = \"'\" + df_converted_original['Q16']+\"'\"\n",
    "df_converted_original['Q17a'] = \"'\" + df_converted_original['Q17a']+\"'\"\n",
    "df_converted_original['Q17b'] = \"'\" + df_converted_original['Q17b']+\"'\"\n",
    "df_converted_original['Q17c'] = \"'\" + df_converted_original['Q17c']+\"'\"\n",
    "df_converted_original['Q17d'] = \"'\" + df_converted_original['Q17d']+\"'\"\n",
    "df_converted_original['Q17e'] = \"'\" + df_converted_original['Q17e']+\"'\"\n",
    "df_converted_original['Q17f'] = \"'\" + df_converted_original['Q17f']+\"'\"\n",
    "df_converted_original['Q18'] = \"'\" + df_converted_original['Q18']+\"'\"\n",
    "df_converted_original['Q19a'] = \"'\" + df_converted_original['Q19a']+\"'\"\n",
    "df_converted_original['Q19b'] = \"'\" + df_converted_original['Q19b']+\"'\"\n",
    "df_converted_original['Q19c'] = \"'\" + df_converted_original['Q19c']+\"'\"\n",
    "df_converted_original['Q19d'] = \"'\" + df_converted_original['Q19d']+\"'\"\n",
    "df_converted_original['Q19e'] = \"'\" + df_converted_original['Q19e']+\"'\"\n",
    "df_converted_original['Q19f'] = \"'\" + df_converted_original['Q19f']+\"'\"\n",
    "df_converted_original['Q19g'] = \"'\" + df_converted_original['Q19g']+\"'\"\n",
    "df_converted_original['p_state'] = \"'\" + df_converted_original['p_state']+\"'\"\n",
    "df_converted_original['p_gender_sdc'] = \"'\" + df_converted_original['p_gender_sdc']+\"'\"\n",
    "df_converted_original['p_age_group_sdc'] = \"'\" + df_converted_original['p_age_group_sdc']+\"'\"\n",
    "df_converted_original['p_education_sdc'] = \"'\" + df_converted_original['p_education_sdc']+\"'\"\n"
   ]
  },
  {
   "cell_type": "code",
   "execution_count": 49,
   "metadata": {},
   "outputs": [],
   "source": [
    "df_converted_original = df_converted_original.astype(str)"
   ]
  },
  {
   "cell_type": "code",
   "execution_count": 50,
   "metadata": {},
   "outputs": [],
   "source": [
    "df_converted_original.to_csv(\"original_rattle.csv\",index = False)"
   ]
  },
  {
   "cell_type": "code",
   "execution_count": 51,
   "metadata": {},
   "outputs": [
    {
     "name": "stdout",
     "output_type": "stream",
     "text": [
      "<class 'pandas.core.frame.DataFrame'>\n",
      "RangeIndex: 2150 entries, 0 to 2149\n",
      "Data columns (total 50 columns):\n",
      " #   Column           Non-Null Count  Dtype \n",
      "---  ------           --------------  ----- \n",
      " 0   srcid            2150 non-null   object\n",
      " 1   Q1               2150 non-null   object\n",
      " 2   Q2               2150 non-null   object\n",
      " 3   Q4               2150 non-null   object\n",
      " 4   Q6a              2150 non-null   object\n",
      " 5   Q6b              2150 non-null   object\n",
      " 6   Q6c              2150 non-null   object\n",
      " 7   Q6d              2150 non-null   object\n",
      " 8   Q7a              2150 non-null   object\n",
      " 9   Q7b              2150 non-null   object\n",
      " 10  Q7c              2150 non-null   object\n",
      " 11  Q7d              2150 non-null   object\n",
      " 12  Q7e              2150 non-null   object\n",
      " 13  Q8a              2150 non-null   object\n",
      " 14  Q8b              2150 non-null   object\n",
      " 15  Q8c              2150 non-null   object\n",
      " 16  Q8d              2150 non-null   object\n",
      " 17  Q8e              2150 non-null   object\n",
      " 18  Q8f              2150 non-null   object\n",
      " 19  Q8g              2150 non-null   object\n",
      " 20  Q8h              2150 non-null   object\n",
      " 21  Q10a             2150 non-null   object\n",
      " 22  Q10b             2150 non-null   object\n",
      " 23  Q10c             2150 non-null   object\n",
      " 24  Q10d             2150 non-null   object\n",
      " 25  Q11              2150 non-null   object\n",
      " 26  Q11a             2150 non-null   object\n",
      " 27  Q11b             2150 non-null   object\n",
      " 28  Q12              2150 non-null   object\n",
      " 29  Q14              2150 non-null   object\n",
      " 30  Q15              2150 non-null   object\n",
      " 31  Q16              2150 non-null   object\n",
      " 32  Q17a             2150 non-null   object\n",
      " 33  Q17b             2150 non-null   object\n",
      " 34  Q17c             2150 non-null   object\n",
      " 35  Q17d             2150 non-null   object\n",
      " 36  Q17e             2150 non-null   object\n",
      " 37  Q17f             2150 non-null   object\n",
      " 38  Q18              2150 non-null   object\n",
      " 39  Q19a             2150 non-null   object\n",
      " 40  Q19b             2150 non-null   object\n",
      " 41  Q19c             2150 non-null   object\n",
      " 42  Q19d             2150 non-null   object\n",
      " 43  Q19e             2150 non-null   object\n",
      " 44  Q19f             2150 non-null   object\n",
      " 45  Q19g             2150 non-null   object\n",
      " 46  p_state          2150 non-null   object\n",
      " 47  p_gender_sdc     2150 non-null   object\n",
      " 48  p_age_group_sdc  2150 non-null   object\n",
      " 49  p_education_sdc  2150 non-null   object\n",
      "dtypes: object(50)\n",
      "memory usage: 840.0+ KB\n"
     ]
    }
   ],
   "source": [
    "df_converted_original.info()"
   ]
  },
  {
   "cell_type": "markdown",
   "metadata": {},
   "source": [
    "### Creating a dataframe for module D cohort"
   ]
  },
  {
   "cell_type": "code",
   "execution_count": 52,
   "metadata": {},
   "outputs": [],
   "source": [
    "df_rattle_d = df_converted[['srcid','Q1','Q2','Q4','Q6a','Q6b','Q6c','Q6d','Q7a','Q7b','Q7c','Q7d','Q7e',\\\n",
    "    'Q8a','Q8b','Q8c','Q8d','Q8e','Q8f','Q8g','Q8h',\\\n",
    "    'Q10a','Q10b','Q10c','Q10d','Q11','Q12','Q14','Q15', \\\n",
    "    'p_state','p_gender_sdc','p_age_group_sdc','p_education_sdc']]"
   ]
  },
  {
   "cell_type": "code",
   "execution_count": 53,
   "metadata": {},
   "outputs": [
    {
     "name": "stdout",
     "output_type": "stream",
     "text": [
      "<class 'pandas.core.frame.DataFrame'>\n",
      "RangeIndex: 2150 entries, 0 to 2149\n",
      "Data columns (total 33 columns):\n",
      " #   Column           Non-Null Count  Dtype  \n",
      "---  ------           --------------  -----  \n",
      " 0   srcid            2150 non-null   int64  \n",
      " 1   Q1               2150 non-null   int64  \n",
      " 2   Q2               2150 non-null   int64  \n",
      " 3   Q4               2150 non-null   object \n",
      " 4   Q6a              2150 non-null   int64  \n",
      " 5   Q6b              2150 non-null   int64  \n",
      " 6   Q6c              2150 non-null   int64  \n",
      " 7   Q6d              2150 non-null   int64  \n",
      " 8   Q7a              2150 non-null   int64  \n",
      " 9   Q7b              2150 non-null   int64  \n",
      " 10  Q7c              2150 non-null   int64  \n",
      " 11  Q7d              2150 non-null   int64  \n",
      " 12  Q7e              2150 non-null   int64  \n",
      " 13  Q8a              2146 non-null   float64\n",
      " 14  Q8b              2147 non-null   float64\n",
      " 15  Q8c              2148 non-null   float64\n",
      " 16  Q8d              2142 non-null   float64\n",
      " 17  Q8e              2145 non-null   float64\n",
      " 18  Q8f              2146 non-null   float64\n",
      " 19  Q8g              2129 non-null   float64\n",
      " 20  Q8h              2146 non-null   float64\n",
      " 21  Q10a             2150 non-null   int64  \n",
      " 22  Q10b             2150 non-null   int64  \n",
      " 23  Q10c             2150 non-null   int64  \n",
      " 24  Q10d             2150 non-null   int64  \n",
      " 25  Q11              1076 non-null   float64\n",
      " 26  Q12              1076 non-null   float64\n",
      " 27  Q14              1076 non-null   float64\n",
      " 28  Q15              1076 non-null   float64\n",
      " 29  p_state          2150 non-null   int64  \n",
      " 30  p_gender_sdc     2146 non-null   float64\n",
      " 31  p_age_group_sdc  2108 non-null   float64\n",
      " 32  p_education_sdc  2077 non-null   float64\n",
      "dtypes: float64(15), int64(17), object(1)\n",
      "memory usage: 554.4+ KB\n"
     ]
    }
   ],
   "source": [
    "df_rattle_d.info()"
   ]
  },
  {
   "cell_type": "code",
   "execution_count": 54,
   "metadata": {},
   "outputs": [],
   "source": [
    "df_rattle_d = df_rattle_d.dropna()"
   ]
  },
  {
   "cell_type": "code",
   "execution_count": 55,
   "metadata": {},
   "outputs": [
    {
     "name": "stdout",
     "output_type": "stream",
     "text": [
      "<class 'pandas.core.frame.DataFrame'>\n",
      "Int64Index: 1011 entries, 1 to 2149\n",
      "Data columns (total 33 columns):\n",
      " #   Column           Non-Null Count  Dtype  \n",
      "---  ------           --------------  -----  \n",
      " 0   srcid            1011 non-null   int64  \n",
      " 1   Q1               1011 non-null   int64  \n",
      " 2   Q2               1011 non-null   int64  \n",
      " 3   Q4               1011 non-null   object \n",
      " 4   Q6a              1011 non-null   int64  \n",
      " 5   Q6b              1011 non-null   int64  \n",
      " 6   Q6c              1011 non-null   int64  \n",
      " 7   Q6d              1011 non-null   int64  \n",
      " 8   Q7a              1011 non-null   int64  \n",
      " 9   Q7b              1011 non-null   int64  \n",
      " 10  Q7c              1011 non-null   int64  \n",
      " 11  Q7d              1011 non-null   int64  \n",
      " 12  Q7e              1011 non-null   int64  \n",
      " 13  Q8a              1011 non-null   float64\n",
      " 14  Q8b              1011 non-null   float64\n",
      " 15  Q8c              1011 non-null   float64\n",
      " 16  Q8d              1011 non-null   float64\n",
      " 17  Q8e              1011 non-null   float64\n",
      " 18  Q8f              1011 non-null   float64\n",
      " 19  Q8g              1011 non-null   float64\n",
      " 20  Q8h              1011 non-null   float64\n",
      " 21  Q10a             1011 non-null   int64  \n",
      " 22  Q10b             1011 non-null   int64  \n",
      " 23  Q10c             1011 non-null   int64  \n",
      " 24  Q10d             1011 non-null   int64  \n",
      " 25  Q11              1011 non-null   float64\n",
      " 26  Q12              1011 non-null   float64\n",
      " 27  Q14              1011 non-null   float64\n",
      " 28  Q15              1011 non-null   float64\n",
      " 29  p_state          1011 non-null   int64  \n",
      " 30  p_gender_sdc     1011 non-null   float64\n",
      " 31  p_age_group_sdc  1011 non-null   float64\n",
      " 32  p_education_sdc  1011 non-null   float64\n",
      "dtypes: float64(15), int64(17), object(1)\n",
      "memory usage: 268.5+ KB\n"
     ]
    }
   ],
   "source": [
    "df_rattle_d.info()"
   ]
  },
  {
   "cell_type": "markdown",
   "metadata": {},
   "source": [
    "#### Changing datatype to objects"
   ]
  },
  {
   "cell_type": "code",
   "execution_count": 56,
   "metadata": {},
   "outputs": [],
   "source": [
    "df_rattle_d = df_rattle_d.astype(str)"
   ]
  },
  {
   "cell_type": "code",
   "execution_count": 57,
   "metadata": {},
   "outputs": [
    {
     "name": "stdout",
     "output_type": "stream",
     "text": [
      "<class 'pandas.core.frame.DataFrame'>\n",
      "Int64Index: 1011 entries, 1 to 2149\n",
      "Data columns (total 33 columns):\n",
      " #   Column           Non-Null Count  Dtype \n",
      "---  ------           --------------  ----- \n",
      " 0   srcid            1011 non-null   object\n",
      " 1   Q1               1011 non-null   object\n",
      " 2   Q2               1011 non-null   object\n",
      " 3   Q4               1011 non-null   object\n",
      " 4   Q6a              1011 non-null   object\n",
      " 5   Q6b              1011 non-null   object\n",
      " 6   Q6c              1011 non-null   object\n",
      " 7   Q6d              1011 non-null   object\n",
      " 8   Q7a              1011 non-null   object\n",
      " 9   Q7b              1011 non-null   object\n",
      " 10  Q7c              1011 non-null   object\n",
      " 11  Q7d              1011 non-null   object\n",
      " 12  Q7e              1011 non-null   object\n",
      " 13  Q8a              1011 non-null   object\n",
      " 14  Q8b              1011 non-null   object\n",
      " 15  Q8c              1011 non-null   object\n",
      " 16  Q8d              1011 non-null   object\n",
      " 17  Q8e              1011 non-null   object\n",
      " 18  Q8f              1011 non-null   object\n",
      " 19  Q8g              1011 non-null   object\n",
      " 20  Q8h              1011 non-null   object\n",
      " 21  Q10a             1011 non-null   object\n",
      " 22  Q10b             1011 non-null   object\n",
      " 23  Q10c             1011 non-null   object\n",
      " 24  Q10d             1011 non-null   object\n",
      " 25  Q11              1011 non-null   object\n",
      " 26  Q12              1011 non-null   object\n",
      " 27  Q14              1011 non-null   object\n",
      " 28  Q15              1011 non-null   object\n",
      " 29  p_state          1011 non-null   object\n",
      " 30  p_gender_sdc     1011 non-null   object\n",
      " 31  p_age_group_sdc  1011 non-null   object\n",
      " 32  p_education_sdc  1011 non-null   object\n",
      "dtypes: object(33)\n",
      "memory usage: 268.5+ KB\n"
     ]
    }
   ],
   "source": [
    "df_rattle_d.info()"
   ]
  },
  {
   "cell_type": "code",
   "execution_count": 58,
   "metadata": {},
   "outputs": [],
   "source": [
    "df_rattle_d['Q1'] = \"'\" + df_rattle_d['Q1']+\"'\"\n",
    "df_rattle_d['Q2'] = \"'\" + df_rattle_d['Q2']+\"'\"\n",
    "df_rattle_d['Q4'] = \"'\" + df_rattle_d['Q4']+\"'\"\n",
    "df_rattle_d['Q6a'] = \"'\" + df_rattle_d['Q6a']+\"'\"\n",
    "df_rattle_d['Q6b'] = \"'\" + df_rattle_d['Q6b']+\"'\"\n",
    "df_rattle_d['Q6c'] = \"'\" + df_rattle_d['Q6c']+\"'\"\n",
    "df_rattle_d['Q6d'] = \"'\" + df_rattle_d['Q6d']+\"'\"\n",
    "df_rattle_d['Q7a'] = \"'\" + df_rattle_d['Q7a']+\"'\"\n",
    "df_rattle_d['Q7b'] = \"'\" + df_rattle_d['Q7b']+\"'\"\n",
    "df_rattle_d['Q7c'] = \"'\" + df_rattle_d['Q7c']+\"'\"\n",
    "df_rattle_d['Q7d'] = \"'\" + df_rattle_d['Q7d']+\"'\"\n",
    "df_rattle_d['Q7e'] = \"'\" + df_rattle_d['Q7e']+\"'\"\n",
    "df_rattle_d['Q8a'] = \"'\" + df_rattle_d['Q8a']+\"'\"\n",
    "df_rattle_d['Q8b'] = \"'\" + df_rattle_d['Q8b']+\"'\"\n",
    "df_rattle_d['Q8c'] = \"'\" + df_rattle_d['Q8c']+\"'\"\n",
    "df_rattle_d['Q8d'] = \"'\" + df_rattle_d['Q8d']+\"'\"\n",
    "df_rattle_d['Q8e'] = \"'\" + df_rattle_d['Q8e']+\"'\"\n",
    "df_rattle_d['Q8f'] = \"'\" + df_rattle_d['Q8f']+\"'\"\n",
    "df_rattle_d['Q8g'] = \"'\" + df_rattle_d['Q8g']+\"'\"\n",
    "df_rattle_d['Q8h'] = \"'\" + df_rattle_d['Q8h']+\"'\"\n",
    "df_rattle_d['Q10a'] = \"'\" + df_rattle_d['Q10a']+\"'\"\n",
    "df_rattle_d['Q10b'] = \"'\" + df_rattle_d['Q10b']+\"'\"\n",
    "df_rattle_d['Q10c'] = \"'\" + df_rattle_d['Q10c']+\"'\"\n",
    "df_rattle_d['Q10d'] = \"'\" + df_rattle_d['Q10d']+\"'\"\n",
    "df_rattle_d['Q11'] = \"'\" + df_rattle_d['Q11']+\"'\"\n",
    "df_rattle_d['Q12'] = \"'\" + df_rattle_d['Q12']+\"'\"\n",
    "df_rattle_d['Q14'] = \"'\" + df_rattle_d['Q14']+\"'\"\n",
    "df_rattle_d['Q15'] = \"'\" + df_rattle_d['Q15']+\"'\"\n",
    "df_rattle_d['p_state'] = \"'\" + df_rattle_d['p_state']+\"'\"\n",
    "df_rattle_d['p_gender_sdc'] = \"'\" + df_rattle_d['p_gender_sdc']+\"'\"\n",
    "df_rattle_d['p_age_group_sdc'] = \"'\" + df_rattle_d['p_age_group_sdc']+\"'\"\n",
    "df_rattle_d['p_education_sdc'] = \"'\" + df_rattle_d['p_education_sdc']+\"'\"\n"
   ]
  },
  {
   "cell_type": "code",
   "execution_count": 59,
   "metadata": {},
   "outputs": [
    {
     "data": {
      "text/html": [
       "<div>\n",
       "<style scoped>\n",
       "    .dataframe tbody tr th:only-of-type {\n",
       "        vertical-align: middle;\n",
       "    }\n",
       "\n",
       "    .dataframe tbody tr th {\n",
       "        vertical-align: top;\n",
       "    }\n",
       "\n",
       "    .dataframe thead th {\n",
       "        text-align: right;\n",
       "    }\n",
       "</style>\n",
       "<table border=\"1\" class=\"dataframe\">\n",
       "  <thead>\n",
       "    <tr style=\"text-align: right;\">\n",
       "      <th></th>\n",
       "      <th>srcid</th>\n",
       "      <th>Q1</th>\n",
       "      <th>Q2</th>\n",
       "      <th>Q4</th>\n",
       "      <th>Q6a</th>\n",
       "      <th>Q6b</th>\n",
       "      <th>Q6c</th>\n",
       "      <th>Q6d</th>\n",
       "      <th>Q7a</th>\n",
       "      <th>Q7b</th>\n",
       "      <th>...</th>\n",
       "      <th>Q10c</th>\n",
       "      <th>Q10d</th>\n",
       "      <th>Q11</th>\n",
       "      <th>Q12</th>\n",
       "      <th>Q14</th>\n",
       "      <th>Q15</th>\n",
       "      <th>p_state</th>\n",
       "      <th>p_gender_sdc</th>\n",
       "      <th>p_age_group_sdc</th>\n",
       "      <th>p_education_sdc</th>\n",
       "    </tr>\n",
       "  </thead>\n",
       "  <tbody>\n",
       "    <tr>\n",
       "      <th>1</th>\n",
       "      <td>275</td>\n",
       "      <td>'2'</td>\n",
       "      <td>'11'</td>\n",
       "      <td>'Centre-right'</td>\n",
       "      <td>'2'</td>\n",
       "      <td>'2'</td>\n",
       "      <td>'2'</td>\n",
       "      <td>'2'</td>\n",
       "      <td>'1'</td>\n",
       "      <td>'1'</td>\n",
       "      <td>...</td>\n",
       "      <td>'4'</td>\n",
       "      <td>'1'</td>\n",
       "      <td>'3.0'</td>\n",
       "      <td>'1.0'</td>\n",
       "      <td>'3.0'</td>\n",
       "      <td>'2.0'</td>\n",
       "      <td>'1'</td>\n",
       "      <td>'2.0'</td>\n",
       "      <td>'4.0'</td>\n",
       "      <td>'1.0'</td>\n",
       "    </tr>\n",
       "    <tr>\n",
       "      <th>2</th>\n",
       "      <td>1180</td>\n",
       "      <td>'2'</td>\n",
       "      <td>'-99'</td>\n",
       "      <td>'Centre-left'</td>\n",
       "      <td>'-99'</td>\n",
       "      <td>'4'</td>\n",
       "      <td>'3'</td>\n",
       "      <td>'4'</td>\n",
       "      <td>'3'</td>\n",
       "      <td>'3'</td>\n",
       "      <td>...</td>\n",
       "      <td>'4'</td>\n",
       "      <td>'4'</td>\n",
       "      <td>'2.0'</td>\n",
       "      <td>'4.0'</td>\n",
       "      <td>'4.0'</td>\n",
       "      <td>'3.0'</td>\n",
       "      <td>'1'</td>\n",
       "      <td>'2.0'</td>\n",
       "      <td>'3.0'</td>\n",
       "      <td>'3.0'</td>\n",
       "    </tr>\n",
       "    <tr>\n",
       "      <th>3</th>\n",
       "      <td>1600</td>\n",
       "      <td>'2'</td>\n",
       "      <td>'19'</td>\n",
       "      <td>'Centre-left'</td>\n",
       "      <td>'4'</td>\n",
       "      <td>'2'</td>\n",
       "      <td>'2'</td>\n",
       "      <td>'2'</td>\n",
       "      <td>'1'</td>\n",
       "      <td>'1'</td>\n",
       "      <td>...</td>\n",
       "      <td>'1'</td>\n",
       "      <td>'1'</td>\n",
       "      <td>'1.0'</td>\n",
       "      <td>'2.0'</td>\n",
       "      <td>'2.0'</td>\n",
       "      <td>'1.0'</td>\n",
       "      <td>'1'</td>\n",
       "      <td>'2.0'</td>\n",
       "      <td>'4.0'</td>\n",
       "      <td>'2.0'</td>\n",
       "    </tr>\n",
       "    <tr>\n",
       "      <th>4</th>\n",
       "      <td>840</td>\n",
       "      <td>'4'</td>\n",
       "      <td>'16'</td>\n",
       "      <td>'Centre-left'</td>\n",
       "      <td>'3'</td>\n",
       "      <td>'2'</td>\n",
       "      <td>'2'</td>\n",
       "      <td>'2'</td>\n",
       "      <td>'1'</td>\n",
       "      <td>'2'</td>\n",
       "      <td>...</td>\n",
       "      <td>'4'</td>\n",
       "      <td>'1'</td>\n",
       "      <td>'3.0'</td>\n",
       "      <td>'2.0'</td>\n",
       "      <td>'2.0'</td>\n",
       "      <td>'3.0'</td>\n",
       "      <td>'1'</td>\n",
       "      <td>'1.0'</td>\n",
       "      <td>'4.0'</td>\n",
       "      <td>'2.0'</td>\n",
       "    </tr>\n",
       "    <tr>\n",
       "      <th>8</th>\n",
       "      <td>1604</td>\n",
       "      <td>'2'</td>\n",
       "      <td>'13'</td>\n",
       "      <td>'Centre-left'</td>\n",
       "      <td>'5'</td>\n",
       "      <td>'5'</td>\n",
       "      <td>'2'</td>\n",
       "      <td>'5'</td>\n",
       "      <td>'1'</td>\n",
       "      <td>'1'</td>\n",
       "      <td>...</td>\n",
       "      <td>'4'</td>\n",
       "      <td>'4'</td>\n",
       "      <td>'1.0'</td>\n",
       "      <td>'1.0'</td>\n",
       "      <td>'3.0'</td>\n",
       "      <td>'3.0'</td>\n",
       "      <td>'1'</td>\n",
       "      <td>'2.0'</td>\n",
       "      <td>'4.0'</td>\n",
       "      <td>'3.0'</td>\n",
       "    </tr>\n",
       "  </tbody>\n",
       "</table>\n",
       "<p>5 rows × 33 columns</p>\n",
       "</div>"
      ],
      "text/plain": [
       "  srcid   Q1     Q2              Q4    Q6a  Q6b  Q6c  Q6d  Q7a  Q7b  ... Q10c  \\\n",
       "1   275  '2'   '11'  'Centre-right'    '2'  '2'  '2'  '2'  '1'  '1'  ...  '4'   \n",
       "2  1180  '2'  '-99'   'Centre-left'  '-99'  '4'  '3'  '4'  '3'  '3'  ...  '4'   \n",
       "3  1600  '2'   '19'   'Centre-left'    '4'  '2'  '2'  '2'  '1'  '1'  ...  '1'   \n",
       "4   840  '4'   '16'   'Centre-left'    '3'  '2'  '2'  '2'  '1'  '2'  ...  '4'   \n",
       "8  1604  '2'   '13'   'Centre-left'    '5'  '5'  '2'  '5'  '1'  '1'  ...  '4'   \n",
       "\n",
       "  Q10d    Q11    Q12    Q14    Q15 p_state p_gender_sdc p_age_group_sdc  \\\n",
       "1  '1'  '3.0'  '1.0'  '3.0'  '2.0'     '1'        '2.0'           '4.0'   \n",
       "2  '4'  '2.0'  '4.0'  '4.0'  '3.0'     '1'        '2.0'           '3.0'   \n",
       "3  '1'  '1.0'  '2.0'  '2.0'  '1.0'     '1'        '2.0'           '4.0'   \n",
       "4  '1'  '3.0'  '2.0'  '2.0'  '3.0'     '1'        '1.0'           '4.0'   \n",
       "8  '4'  '1.0'  '1.0'  '3.0'  '3.0'     '1'        '2.0'           '4.0'   \n",
       "\n",
       "  p_education_sdc  \n",
       "1           '1.0'  \n",
       "2           '3.0'  \n",
       "3           '2.0'  \n",
       "4           '2.0'  \n",
       "8           '3.0'  \n",
       "\n",
       "[5 rows x 33 columns]"
      ]
     },
     "execution_count": 59,
     "metadata": {},
     "output_type": "execute_result"
    }
   ],
   "source": [
    "df_rattle_d.head()"
   ]
  },
  {
   "cell_type": "code",
   "execution_count": 60,
   "metadata": {},
   "outputs": [],
   "source": [
    "# Save dataframe as a CSV for analysis on Rattle\n",
    "df_rattle_d.to_csv('rattle_version_d.csv', index = False)"
   ]
  },
  {
   "cell_type": "code",
   "execution_count": 61,
   "metadata": {},
   "outputs": [
    {
     "data": {
      "text/plain": [
       "'Centre-right'    356\n",
       "'Centre-left'     322\n",
       "'Green'           157\n",
       "'-98'              51\n",
       "'No-party'         32\n",
       "'Right-wing'       30\n",
       "'Other'            24\n",
       "'Independent'      20\n",
       "'-99'              13\n",
       "'Swing'             5\n",
       "'Centre'            1\n",
       "Name: Q4, dtype: int64"
      ]
     },
     "execution_count": 61,
     "metadata": {},
     "output_type": "execute_result"
    }
   ],
   "source": [
    "df_rattle_d.Q4.value_counts()"
   ]
  },
  {
   "cell_type": "code",
   "execution_count": 62,
   "metadata": {},
   "outputs": [
    {
     "data": {
      "text/html": [
       "<div>\n",
       "<style scoped>\n",
       "    .dataframe tbody tr th:only-of-type {\n",
       "        vertical-align: middle;\n",
       "    }\n",
       "\n",
       "    .dataframe tbody tr th {\n",
       "        vertical-align: top;\n",
       "    }\n",
       "\n",
       "    .dataframe thead th {\n",
       "        text-align: right;\n",
       "    }\n",
       "</style>\n",
       "<table border=\"1\" class=\"dataframe\">\n",
       "  <thead>\n",
       "    <tr style=\"text-align: right;\">\n",
       "      <th></th>\n",
       "      <th>srcid</th>\n",
       "      <th>Q1</th>\n",
       "      <th>Q2</th>\n",
       "      <th>Q4</th>\n",
       "      <th>Q6a</th>\n",
       "      <th>Q6b</th>\n",
       "      <th>Q6c</th>\n",
       "      <th>Q6d</th>\n",
       "      <th>Q7a</th>\n",
       "      <th>Q7b</th>\n",
       "      <th>...</th>\n",
       "      <th>Q10c</th>\n",
       "      <th>Q10d</th>\n",
       "      <th>Q11</th>\n",
       "      <th>Q12</th>\n",
       "      <th>Q14</th>\n",
       "      <th>Q15</th>\n",
       "      <th>p_state</th>\n",
       "      <th>p_gender_sdc</th>\n",
       "      <th>p_age_group_sdc</th>\n",
       "      <th>p_education_sdc</th>\n",
       "    </tr>\n",
       "  </thead>\n",
       "  <tbody>\n",
       "    <tr>\n",
       "      <th>1</th>\n",
       "      <td>275</td>\n",
       "      <td>'2'</td>\n",
       "      <td>'11'</td>\n",
       "      <td>'Centre-right'</td>\n",
       "      <td>'2'</td>\n",
       "      <td>'2'</td>\n",
       "      <td>'2'</td>\n",
       "      <td>'2'</td>\n",
       "      <td>'1'</td>\n",
       "      <td>'1'</td>\n",
       "      <td>...</td>\n",
       "      <td>'4'</td>\n",
       "      <td>'1'</td>\n",
       "      <td>'3.0'</td>\n",
       "      <td>'1.0'</td>\n",
       "      <td>'3.0'</td>\n",
       "      <td>'2.0'</td>\n",
       "      <td>'1'</td>\n",
       "      <td>'2.0'</td>\n",
       "      <td>'4.0'</td>\n",
       "      <td>'1.0'</td>\n",
       "    </tr>\n",
       "    <tr>\n",
       "      <th>2</th>\n",
       "      <td>1180</td>\n",
       "      <td>'2'</td>\n",
       "      <td>'-99'</td>\n",
       "      <td>'Centre-left'</td>\n",
       "      <td>'-99'</td>\n",
       "      <td>'4'</td>\n",
       "      <td>'3'</td>\n",
       "      <td>'4'</td>\n",
       "      <td>'3'</td>\n",
       "      <td>'3'</td>\n",
       "      <td>...</td>\n",
       "      <td>'4'</td>\n",
       "      <td>'4'</td>\n",
       "      <td>'2.0'</td>\n",
       "      <td>'4.0'</td>\n",
       "      <td>'4.0'</td>\n",
       "      <td>'3.0'</td>\n",
       "      <td>'1'</td>\n",
       "      <td>'2.0'</td>\n",
       "      <td>'3.0'</td>\n",
       "      <td>'3.0'</td>\n",
       "    </tr>\n",
       "    <tr>\n",
       "      <th>3</th>\n",
       "      <td>1600</td>\n",
       "      <td>'2'</td>\n",
       "      <td>'19'</td>\n",
       "      <td>'Centre-left'</td>\n",
       "      <td>'4'</td>\n",
       "      <td>'2'</td>\n",
       "      <td>'2'</td>\n",
       "      <td>'2'</td>\n",
       "      <td>'1'</td>\n",
       "      <td>'1'</td>\n",
       "      <td>...</td>\n",
       "      <td>'1'</td>\n",
       "      <td>'1'</td>\n",
       "      <td>'1.0'</td>\n",
       "      <td>'2.0'</td>\n",
       "      <td>'2.0'</td>\n",
       "      <td>'1.0'</td>\n",
       "      <td>'1'</td>\n",
       "      <td>'2.0'</td>\n",
       "      <td>'4.0'</td>\n",
       "      <td>'2.0'</td>\n",
       "    </tr>\n",
       "    <tr>\n",
       "      <th>4</th>\n",
       "      <td>840</td>\n",
       "      <td>'4'</td>\n",
       "      <td>'16'</td>\n",
       "      <td>'Centre-left'</td>\n",
       "      <td>'3'</td>\n",
       "      <td>'2'</td>\n",
       "      <td>'2'</td>\n",
       "      <td>'2'</td>\n",
       "      <td>'1'</td>\n",
       "      <td>'2'</td>\n",
       "      <td>...</td>\n",
       "      <td>'4'</td>\n",
       "      <td>'1'</td>\n",
       "      <td>'3.0'</td>\n",
       "      <td>'2.0'</td>\n",
       "      <td>'2.0'</td>\n",
       "      <td>'3.0'</td>\n",
       "      <td>'1'</td>\n",
       "      <td>'1.0'</td>\n",
       "      <td>'4.0'</td>\n",
       "      <td>'2.0'</td>\n",
       "    </tr>\n",
       "    <tr>\n",
       "      <th>8</th>\n",
       "      <td>1604</td>\n",
       "      <td>'2'</td>\n",
       "      <td>'13'</td>\n",
       "      <td>'Centre-left'</td>\n",
       "      <td>'5'</td>\n",
       "      <td>'5'</td>\n",
       "      <td>'2'</td>\n",
       "      <td>'5'</td>\n",
       "      <td>'1'</td>\n",
       "      <td>'1'</td>\n",
       "      <td>...</td>\n",
       "      <td>'4'</td>\n",
       "      <td>'4'</td>\n",
       "      <td>'1.0'</td>\n",
       "      <td>'1.0'</td>\n",
       "      <td>'3.0'</td>\n",
       "      <td>'3.0'</td>\n",
       "      <td>'1'</td>\n",
       "      <td>'2.0'</td>\n",
       "      <td>'4.0'</td>\n",
       "      <td>'3.0'</td>\n",
       "    </tr>\n",
       "  </tbody>\n",
       "</table>\n",
       "<p>5 rows × 33 columns</p>\n",
       "</div>"
      ],
      "text/plain": [
       "  srcid   Q1     Q2              Q4    Q6a  Q6b  Q6c  Q6d  Q7a  Q7b  ... Q10c  \\\n",
       "1   275  '2'   '11'  'Centre-right'    '2'  '2'  '2'  '2'  '1'  '1'  ...  '4'   \n",
       "2  1180  '2'  '-99'   'Centre-left'  '-99'  '4'  '3'  '4'  '3'  '3'  ...  '4'   \n",
       "3  1600  '2'   '19'   'Centre-left'    '4'  '2'  '2'  '2'  '1'  '1'  ...  '1'   \n",
       "4   840  '4'   '16'   'Centre-left'    '3'  '2'  '2'  '2'  '1'  '2'  ...  '4'   \n",
       "8  1604  '2'   '13'   'Centre-left'    '5'  '5'  '2'  '5'  '1'  '1'  ...  '4'   \n",
       "\n",
       "  Q10d    Q11    Q12    Q14    Q15 p_state p_gender_sdc p_age_group_sdc  \\\n",
       "1  '1'  '3.0'  '1.0'  '3.0'  '2.0'     '1'        '2.0'           '4.0'   \n",
       "2  '4'  '2.0'  '4.0'  '4.0'  '3.0'     '1'        '2.0'           '3.0'   \n",
       "3  '1'  '1.0'  '2.0'  '2.0'  '1.0'     '1'        '2.0'           '4.0'   \n",
       "4  '1'  '3.0'  '2.0'  '2.0'  '3.0'     '1'        '1.0'           '4.0'   \n",
       "8  '4'  '1.0'  '1.0'  '3.0'  '3.0'     '1'        '2.0'           '4.0'   \n",
       "\n",
       "  p_education_sdc  \n",
       "1           '1.0'  \n",
       "2           '3.0'  \n",
       "3           '2.0'  \n",
       "4           '2.0'  \n",
       "8           '3.0'  \n",
       "\n",
       "[5 rows x 33 columns]"
      ]
     },
     "execution_count": 62,
     "metadata": {},
     "output_type": "execute_result"
    }
   ],
   "source": [
    "df_rattle_d.head()"
   ]
  },
  {
   "cell_type": "markdown",
   "metadata": {},
   "source": [
    "### Creating a dataframe for module E cohort"
   ]
  },
  {
   "cell_type": "code",
   "execution_count": 63,
   "metadata": {},
   "outputs": [],
   "source": [
    "df_rattle_e = df_converted[['srcid','Q1','Q2','Q4','Q6a','Q6b','Q6c','Q6d','Q7a','Q7b','Q7c','Q7d','Q7e',\\\n",
    "    'Q8a','Q8b','Q8c','Q8d','Q8e','Q8f','Q8g','Q8h',\\\n",
    "    'Q10a','Q10b','Q10c','Q10d','Q16','Q17a','Q17b','Q17c','Q17d','Q17e','Q17f',\\\n",
    "    'Q18','Q19a','Q19b','Q19c','Q19d','Q19e','Q19f','Q19g',\\\n",
    "    'p_state','p_gender_sdc','p_age_group_sdc','p_education_sdc']]"
   ]
  },
  {
   "cell_type": "code",
   "execution_count": 64,
   "metadata": {},
   "outputs": [
    {
     "name": "stdout",
     "output_type": "stream",
     "text": [
      "<class 'pandas.core.frame.DataFrame'>\n",
      "RangeIndex: 2150 entries, 0 to 2149\n",
      "Data columns (total 44 columns):\n",
      " #   Column           Non-Null Count  Dtype  \n",
      "---  ------           --------------  -----  \n",
      " 0   srcid            2150 non-null   int64  \n",
      " 1   Q1               2150 non-null   int64  \n",
      " 2   Q2               2150 non-null   int64  \n",
      " 3   Q4               2150 non-null   object \n",
      " 4   Q6a              2150 non-null   int64  \n",
      " 5   Q6b              2150 non-null   int64  \n",
      " 6   Q6c              2150 non-null   int64  \n",
      " 7   Q6d              2150 non-null   int64  \n",
      " 8   Q7a              2150 non-null   int64  \n",
      " 9   Q7b              2150 non-null   int64  \n",
      " 10  Q7c              2150 non-null   int64  \n",
      " 11  Q7d              2150 non-null   int64  \n",
      " 12  Q7e              2150 non-null   int64  \n",
      " 13  Q8a              2146 non-null   float64\n",
      " 14  Q8b              2147 non-null   float64\n",
      " 15  Q8c              2148 non-null   float64\n",
      " 16  Q8d              2142 non-null   float64\n",
      " 17  Q8e              2145 non-null   float64\n",
      " 18  Q8f              2146 non-null   float64\n",
      " 19  Q8g              2129 non-null   float64\n",
      " 20  Q8h              2146 non-null   float64\n",
      " 21  Q10a             2150 non-null   int64  \n",
      " 22  Q10b             2150 non-null   int64  \n",
      " 23  Q10c             2150 non-null   int64  \n",
      " 24  Q10d             2150 non-null   int64  \n",
      " 25  Q16              1074 non-null   float64\n",
      " 26  Q17a             1074 non-null   float64\n",
      " 27  Q17b             1074 non-null   float64\n",
      " 28  Q17c             1074 non-null   float64\n",
      " 29  Q17d             1074 non-null   float64\n",
      " 30  Q17e             1074 non-null   float64\n",
      " 31  Q17f             1074 non-null   float64\n",
      " 32  Q18              1074 non-null   float64\n",
      " 33  Q19a             1074 non-null   float64\n",
      " 34  Q19b             1074 non-null   float64\n",
      " 35  Q19c             1074 non-null   float64\n",
      " 36  Q19d             1074 non-null   float64\n",
      " 37  Q19e             1074 non-null   float64\n",
      " 38  Q19f             1074 non-null   float64\n",
      " 39  Q19g             1074 non-null   float64\n",
      " 40  p_state          2150 non-null   int64  \n",
      " 41  p_gender_sdc     2146 non-null   float64\n",
      " 42  p_age_group_sdc  2108 non-null   float64\n",
      " 43  p_education_sdc  2077 non-null   float64\n",
      "dtypes: float64(26), int64(17), object(1)\n",
      "memory usage: 739.2+ KB\n"
     ]
    }
   ],
   "source": [
    "df_rattle_e.info()"
   ]
  },
  {
   "cell_type": "code",
   "execution_count": 65,
   "metadata": {},
   "outputs": [],
   "source": [
    "df_rattle_e = df_rattle_e.dropna()"
   ]
  },
  {
   "cell_type": "code",
   "execution_count": 66,
   "metadata": {},
   "outputs": [
    {
     "name": "stdout",
     "output_type": "stream",
     "text": [
      "<class 'pandas.core.frame.DataFrame'>\n",
      "Int64Index: 992 entries, 0 to 2146\n",
      "Data columns (total 44 columns):\n",
      " #   Column           Non-Null Count  Dtype  \n",
      "---  ------           --------------  -----  \n",
      " 0   srcid            992 non-null    int64  \n",
      " 1   Q1               992 non-null    int64  \n",
      " 2   Q2               992 non-null    int64  \n",
      " 3   Q4               992 non-null    object \n",
      " 4   Q6a              992 non-null    int64  \n",
      " 5   Q6b              992 non-null    int64  \n",
      " 6   Q6c              992 non-null    int64  \n",
      " 7   Q6d              992 non-null    int64  \n",
      " 8   Q7a              992 non-null    int64  \n",
      " 9   Q7b              992 non-null    int64  \n",
      " 10  Q7c              992 non-null    int64  \n",
      " 11  Q7d              992 non-null    int64  \n",
      " 12  Q7e              992 non-null    int64  \n",
      " 13  Q8a              992 non-null    float64\n",
      " 14  Q8b              992 non-null    float64\n",
      " 15  Q8c              992 non-null    float64\n",
      " 16  Q8d              992 non-null    float64\n",
      " 17  Q8e              992 non-null    float64\n",
      " 18  Q8f              992 non-null    float64\n",
      " 19  Q8g              992 non-null    float64\n",
      " 20  Q8h              992 non-null    float64\n",
      " 21  Q10a             992 non-null    int64  \n",
      " 22  Q10b             992 non-null    int64  \n",
      " 23  Q10c             992 non-null    int64  \n",
      " 24  Q10d             992 non-null    int64  \n",
      " 25  Q16              992 non-null    float64\n",
      " 26  Q17a             992 non-null    float64\n",
      " 27  Q17b             992 non-null    float64\n",
      " 28  Q17c             992 non-null    float64\n",
      " 29  Q17d             992 non-null    float64\n",
      " 30  Q17e             992 non-null    float64\n",
      " 31  Q17f             992 non-null    float64\n",
      " 32  Q18              992 non-null    float64\n",
      " 33  Q19a             992 non-null    float64\n",
      " 34  Q19b             992 non-null    float64\n",
      " 35  Q19c             992 non-null    float64\n",
      " 36  Q19d             992 non-null    float64\n",
      " 37  Q19e             992 non-null    float64\n",
      " 38  Q19f             992 non-null    float64\n",
      " 39  Q19g             992 non-null    float64\n",
      " 40  p_state          992 non-null    int64  \n",
      " 41  p_gender_sdc     992 non-null    float64\n",
      " 42  p_age_group_sdc  992 non-null    float64\n",
      " 43  p_education_sdc  992 non-null    float64\n",
      "dtypes: float64(26), int64(17), object(1)\n",
      "memory usage: 348.8+ KB\n"
     ]
    }
   ],
   "source": [
    "df_rattle_e.info()"
   ]
  },
  {
   "cell_type": "code",
   "execution_count": 67,
   "metadata": {},
   "outputs": [],
   "source": [
    "#### Changing datatype to objects"
   ]
  },
  {
   "cell_type": "code",
   "execution_count": 68,
   "metadata": {},
   "outputs": [],
   "source": [
    "df_rattle_e = df_rattle_e.astype(str)"
   ]
  },
  {
   "cell_type": "code",
   "execution_count": 69,
   "metadata": {},
   "outputs": [
    {
     "name": "stdout",
     "output_type": "stream",
     "text": [
      "<class 'pandas.core.frame.DataFrame'>\n",
      "Int64Index: 992 entries, 0 to 2146\n",
      "Data columns (total 44 columns):\n",
      " #   Column           Non-Null Count  Dtype \n",
      "---  ------           --------------  ----- \n",
      " 0   srcid            992 non-null    object\n",
      " 1   Q1               992 non-null    object\n",
      " 2   Q2               992 non-null    object\n",
      " 3   Q4               992 non-null    object\n",
      " 4   Q6a              992 non-null    object\n",
      " 5   Q6b              992 non-null    object\n",
      " 6   Q6c              992 non-null    object\n",
      " 7   Q6d              992 non-null    object\n",
      " 8   Q7a              992 non-null    object\n",
      " 9   Q7b              992 non-null    object\n",
      " 10  Q7c              992 non-null    object\n",
      " 11  Q7d              992 non-null    object\n",
      " 12  Q7e              992 non-null    object\n",
      " 13  Q8a              992 non-null    object\n",
      " 14  Q8b              992 non-null    object\n",
      " 15  Q8c              992 non-null    object\n",
      " 16  Q8d              992 non-null    object\n",
      " 17  Q8e              992 non-null    object\n",
      " 18  Q8f              992 non-null    object\n",
      " 19  Q8g              992 non-null    object\n",
      " 20  Q8h              992 non-null    object\n",
      " 21  Q10a             992 non-null    object\n",
      " 22  Q10b             992 non-null    object\n",
      " 23  Q10c             992 non-null    object\n",
      " 24  Q10d             992 non-null    object\n",
      " 25  Q16              992 non-null    object\n",
      " 26  Q17a             992 non-null    object\n",
      " 27  Q17b             992 non-null    object\n",
      " 28  Q17c             992 non-null    object\n",
      " 29  Q17d             992 non-null    object\n",
      " 30  Q17e             992 non-null    object\n",
      " 31  Q17f             992 non-null    object\n",
      " 32  Q18              992 non-null    object\n",
      " 33  Q19a             992 non-null    object\n",
      " 34  Q19b             992 non-null    object\n",
      " 35  Q19c             992 non-null    object\n",
      " 36  Q19d             992 non-null    object\n",
      " 37  Q19e             992 non-null    object\n",
      " 38  Q19f             992 non-null    object\n",
      " 39  Q19g             992 non-null    object\n",
      " 40  p_state          992 non-null    object\n",
      " 41  p_gender_sdc     992 non-null    object\n",
      " 42  p_age_group_sdc  992 non-null    object\n",
      " 43  p_education_sdc  992 non-null    object\n",
      "dtypes: object(44)\n",
      "memory usage: 348.8+ KB\n"
     ]
    }
   ],
   "source": [
    "df_rattle_e.info()"
   ]
  },
  {
   "cell_type": "code",
   "execution_count": 70,
   "metadata": {},
   "outputs": [],
   "source": [
    "df_rattle_e['Q1'] = \"'\" + df_rattle_e['Q1']+\"'\"\n",
    "df_rattle_e['Q2'] = \"'\" + df_rattle_e['Q2']+\"'\"\n",
    "df_rattle_e['Q4'] = \"'\" + df_rattle_e['Q4']+\"'\"\n",
    "df_rattle_e['Q6a'] = \"'\" + df_rattle_e['Q6a']+\"'\"\n",
    "df_rattle_e['Q6b'] = \"'\" + df_rattle_e['Q6b']+\"'\"\n",
    "df_rattle_e['Q6c'] = \"'\" + df_rattle_e['Q6c']+\"'\"\n",
    "df_rattle_e['Q6d'] = \"'\" + df_rattle_e['Q6d']+\"'\"\n",
    "df_rattle_e['Q7a'] = \"'\" + df_rattle_e['Q7a']+\"'\"\n",
    "df_rattle_e['Q7b'] = \"'\" + df_rattle_e['Q7b']+\"'\"\n",
    "df_rattle_e['Q7c'] = \"'\" + df_rattle_e['Q7c']+\"'\"\n",
    "df_rattle_e['Q7d'] = \"'\" + df_rattle_e['Q7d']+\"'\"\n",
    "df_rattle_e['Q7e'] = \"'\" + df_rattle_e['Q7e']+\"'\"\n",
    "df_rattle_e['Q8a'] = \"'\" + df_rattle_e['Q8a']+\"'\"\n",
    "df_rattle_e['Q8b'] = \"'\" + df_rattle_e['Q8b']+\"'\"\n",
    "df_rattle_e['Q8c'] = \"'\" + df_rattle_e['Q8c']+\"'\"\n",
    "df_rattle_e['Q8d'] = \"'\" + df_rattle_e['Q8d']+\"'\"\n",
    "df_rattle_e['Q8e'] = \"'\" + df_rattle_e['Q8e']+\"'\"\n",
    "df_rattle_e['Q8f'] = \"'\" + df_rattle_e['Q8f']+\"'\"\n",
    "df_rattle_e['Q8g'] = \"'\" + df_rattle_e['Q8g']+\"'\"\n",
    "df_rattle_e['Q8h'] = \"'\" + df_rattle_e['Q8h']+\"'\"\n",
    "df_rattle_e['Q10a'] = \"'\" + df_rattle_e['Q10a']+\"'\"\n",
    "df_rattle_e['Q10b'] = \"'\" + df_rattle_e['Q10b']+\"'\"\n",
    "df_rattle_e['Q10c'] = \"'\" + df_rattle_e['Q10c']+\"'\"\n",
    "df_rattle_e['Q10d'] = \"'\" + df_rattle_e['Q10d']+\"'\"\n",
    "df_rattle_e['Q16'] = \"'\" + df_rattle_e['Q16']+\"'\"\n",
    "df_rattle_e['Q17a'] = \"'\" + df_rattle_e['Q17a']+\"'\"\n",
    "df_rattle_e['Q17b'] = \"'\" + df_rattle_e['Q17b']+\"'\"\n",
    "df_rattle_e['Q17c'] = \"'\" + df_rattle_e['Q17c']+\"'\"\n",
    "df_rattle_e['Q17d'] = \"'\" + df_rattle_e['Q17d']+\"'\"\n",
    "df_rattle_e['Q17e'] = \"'\" + df_rattle_e['Q17e']+\"'\"\n",
    "df_rattle_e['Q17f'] = \"'\" + df_rattle_e['Q17f']+\"'\"\n",
    "df_rattle_e['Q18'] = \"'\" + df_rattle_e['Q18']+\"'\"\n",
    "df_rattle_e['Q19a'] = \"'\" + df_rattle_e['Q19a']+\"'\"\n",
    "df_rattle_e['Q19b'] = \"'\" + df_rattle_e['Q19b']+\"'\"\n",
    "df_rattle_e['Q19c'] = \"'\" + df_rattle_e['Q19c']+\"'\"\n",
    "df_rattle_e['Q19d'] = \"'\" + df_rattle_e['Q19d']+\"'\"\n",
    "df_rattle_e['Q19e'] = \"'\" + df_rattle_e['Q19e']+\"'\"\n",
    "df_rattle_e['Q19f'] = \"'\" + df_rattle_e['Q19f']+\"'\"\n",
    "df_rattle_e['Q19g'] = \"'\" + df_rattle_e['Q19g']+\"'\"\n",
    "df_rattle_e['p_state'] = \"'\" + df_rattle_e['p_state']+\"'\"\n",
    "df_rattle_e['p_gender_sdc'] = \"'\" + df_rattle_e['p_gender_sdc']+\"'\"\n",
    "df_rattle_e['p_age_group_sdc'] = \"'\" + df_rattle_e['p_age_group_sdc']+\"'\"\n",
    "df_rattle_e['p_education_sdc'] = \"'\" + df_rattle_e['p_education_sdc']+\"'\"\n"
   ]
  },
  {
   "cell_type": "code",
   "execution_count": 71,
   "metadata": {},
   "outputs": [
    {
     "data": {
      "text/html": [
       "<div>\n",
       "<style scoped>\n",
       "    .dataframe tbody tr th:only-of-type {\n",
       "        vertical-align: middle;\n",
       "    }\n",
       "\n",
       "    .dataframe tbody tr th {\n",
       "        vertical-align: top;\n",
       "    }\n",
       "\n",
       "    .dataframe thead th {\n",
       "        text-align: right;\n",
       "    }\n",
       "</style>\n",
       "<table border=\"1\" class=\"dataframe\">\n",
       "  <thead>\n",
       "    <tr style=\"text-align: right;\">\n",
       "      <th></th>\n",
       "      <th>srcid</th>\n",
       "      <th>Q1</th>\n",
       "      <th>Q2</th>\n",
       "      <th>Q4</th>\n",
       "      <th>Q6a</th>\n",
       "      <th>Q6b</th>\n",
       "      <th>Q6c</th>\n",
       "      <th>Q6d</th>\n",
       "      <th>Q7a</th>\n",
       "      <th>Q7b</th>\n",
       "      <th>...</th>\n",
       "      <th>Q19b</th>\n",
       "      <th>Q19c</th>\n",
       "      <th>Q19d</th>\n",
       "      <th>Q19e</th>\n",
       "      <th>Q19f</th>\n",
       "      <th>Q19g</th>\n",
       "      <th>p_state</th>\n",
       "      <th>p_gender_sdc</th>\n",
       "      <th>p_age_group_sdc</th>\n",
       "      <th>p_education_sdc</th>\n",
       "    </tr>\n",
       "  </thead>\n",
       "  <tbody>\n",
       "    <tr>\n",
       "      <th>0</th>\n",
       "      <td>32</td>\n",
       "      <td>'2'</td>\n",
       "      <td>'19'</td>\n",
       "      <td>'Centre-left'</td>\n",
       "      <td>'3'</td>\n",
       "      <td>'4'</td>\n",
       "      <td>'4'</td>\n",
       "      <td>'4'</td>\n",
       "      <td>'3'</td>\n",
       "      <td>'3'</td>\n",
       "      <td>...</td>\n",
       "      <td>'3.0'</td>\n",
       "      <td>'2.0'</td>\n",
       "      <td>'3.0'</td>\n",
       "      <td>'3.0'</td>\n",
       "      <td>'3.0'</td>\n",
       "      <td>'3.0'</td>\n",
       "      <td>'1'</td>\n",
       "      <td>'2.0'</td>\n",
       "      <td>'3.0'</td>\n",
       "      <td>'1.0'</td>\n",
       "    </tr>\n",
       "    <tr>\n",
       "      <th>5</th>\n",
       "      <td>1483</td>\n",
       "      <td>'2'</td>\n",
       "      <td>'11'</td>\n",
       "      <td>'Centre-right'</td>\n",
       "      <td>'3'</td>\n",
       "      <td>'4'</td>\n",
       "      <td>'3'</td>\n",
       "      <td>'2'</td>\n",
       "      <td>'2'</td>\n",
       "      <td>'2'</td>\n",
       "      <td>...</td>\n",
       "      <td>'3.0'</td>\n",
       "      <td>'2.0'</td>\n",
       "      <td>'3.0'</td>\n",
       "      <td>'3.0'</td>\n",
       "      <td>'3.0'</td>\n",
       "      <td>'3.0'</td>\n",
       "      <td>'1'</td>\n",
       "      <td>'2.0'</td>\n",
       "      <td>'3.0'</td>\n",
       "      <td>'2.0'</td>\n",
       "    </tr>\n",
       "    <tr>\n",
       "      <th>6</th>\n",
       "      <td>3</td>\n",
       "      <td>'4'</td>\n",
       "      <td>'5'</td>\n",
       "      <td>'Centre-right'</td>\n",
       "      <td>'2'</td>\n",
       "      <td>'2'</td>\n",
       "      <td>'2'</td>\n",
       "      <td>'2'</td>\n",
       "      <td>'1'</td>\n",
       "      <td>'1'</td>\n",
       "      <td>...</td>\n",
       "      <td>'2.0'</td>\n",
       "      <td>'2.0'</td>\n",
       "      <td>'3.0'</td>\n",
       "      <td>'3.0'</td>\n",
       "      <td>'3.0'</td>\n",
       "      <td>'3.0'</td>\n",
       "      <td>'1'</td>\n",
       "      <td>'2.0'</td>\n",
       "      <td>'3.0'</td>\n",
       "      <td>'3.0'</td>\n",
       "    </tr>\n",
       "    <tr>\n",
       "      <th>7</th>\n",
       "      <td>1635</td>\n",
       "      <td>'2'</td>\n",
       "      <td>'2'</td>\n",
       "      <td>'Centre-left'</td>\n",
       "      <td>'4'</td>\n",
       "      <td>'4'</td>\n",
       "      <td>'3'</td>\n",
       "      <td>'4'</td>\n",
       "      <td>'2'</td>\n",
       "      <td>'2'</td>\n",
       "      <td>...</td>\n",
       "      <td>'3.0'</td>\n",
       "      <td>'2.0'</td>\n",
       "      <td>'3.0'</td>\n",
       "      <td>'3.0'</td>\n",
       "      <td>'3.0'</td>\n",
       "      <td>'3.0'</td>\n",
       "      <td>'1'</td>\n",
       "      <td>'1.0'</td>\n",
       "      <td>'3.0'</td>\n",
       "      <td>'2.0'</td>\n",
       "    </tr>\n",
       "    <tr>\n",
       "      <th>10</th>\n",
       "      <td>2023</td>\n",
       "      <td>'2'</td>\n",
       "      <td>'1'</td>\n",
       "      <td>'-98'</td>\n",
       "      <td>'4'</td>\n",
       "      <td>'4'</td>\n",
       "      <td>'3'</td>\n",
       "      <td>'3'</td>\n",
       "      <td>'3'</td>\n",
       "      <td>'3'</td>\n",
       "      <td>...</td>\n",
       "      <td>'2.0'</td>\n",
       "      <td>'3.0'</td>\n",
       "      <td>'3.0'</td>\n",
       "      <td>'3.0'</td>\n",
       "      <td>'3.0'</td>\n",
       "      <td>'3.0'</td>\n",
       "      <td>'1'</td>\n",
       "      <td>'2.0'</td>\n",
       "      <td>'3.0'</td>\n",
       "      <td>'2.0'</td>\n",
       "    </tr>\n",
       "  </tbody>\n",
       "</table>\n",
       "<p>5 rows × 44 columns</p>\n",
       "</div>"
      ],
      "text/plain": [
       "   srcid   Q1    Q2              Q4  Q6a  Q6b  Q6c  Q6d  Q7a  Q7b  ...   Q19b  \\\n",
       "0     32  '2'  '19'   'Centre-left'  '3'  '4'  '4'  '4'  '3'  '3'  ...  '3.0'   \n",
       "5   1483  '2'  '11'  'Centre-right'  '3'  '4'  '3'  '2'  '2'  '2'  ...  '3.0'   \n",
       "6      3  '4'   '5'  'Centre-right'  '2'  '2'  '2'  '2'  '1'  '1'  ...  '2.0'   \n",
       "7   1635  '2'   '2'   'Centre-left'  '4'  '4'  '3'  '4'  '2'  '2'  ...  '3.0'   \n",
       "10  2023  '2'   '1'           '-98'  '4'  '4'  '3'  '3'  '3'  '3'  ...  '2.0'   \n",
       "\n",
       "     Q19c   Q19d   Q19e   Q19f   Q19g p_state p_gender_sdc p_age_group_sdc  \\\n",
       "0   '2.0'  '3.0'  '3.0'  '3.0'  '3.0'     '1'        '2.0'           '3.0'   \n",
       "5   '2.0'  '3.0'  '3.0'  '3.0'  '3.0'     '1'        '2.0'           '3.0'   \n",
       "6   '2.0'  '3.0'  '3.0'  '3.0'  '3.0'     '1'        '2.0'           '3.0'   \n",
       "7   '2.0'  '3.0'  '3.0'  '3.0'  '3.0'     '1'        '1.0'           '3.0'   \n",
       "10  '3.0'  '3.0'  '3.0'  '3.0'  '3.0'     '1'        '2.0'           '3.0'   \n",
       "\n",
       "   p_education_sdc  \n",
       "0            '1.0'  \n",
       "5            '2.0'  \n",
       "6            '3.0'  \n",
       "7            '2.0'  \n",
       "10           '2.0'  \n",
       "\n",
       "[5 rows x 44 columns]"
      ]
     },
     "execution_count": 71,
     "metadata": {},
     "output_type": "execute_result"
    }
   ],
   "source": [
    "df_rattle_e.head()"
   ]
  },
  {
   "cell_type": "code",
   "execution_count": 72,
   "metadata": {},
   "outputs": [],
   "source": [
    "# Daving dataframe as CSV for analysis on Rattle\n",
    "df_rattle_e.to_csv('rattle_version_e.csv', index = False)"
   ]
  },
  {
   "cell_type": "code",
   "execution_count": null,
   "metadata": {},
   "outputs": [],
   "source": []
  },
  {
   "cell_type": "code",
   "execution_count": null,
   "metadata": {},
   "outputs": [],
   "source": []
  }
 ],
 "metadata": {
  "kernelspec": {
   "display_name": "Python 3",
   "language": "python",
   "name": "python3"
  },
  "language_info": {
   "codemirror_mode": {
    "name": "ipython",
    "version": 3
   },
   "file_extension": ".py",
   "mimetype": "text/x-python",
   "name": "python",
   "nbconvert_exporter": "python",
   "pygments_lexer": "ipython3",
   "version": "3.7.3"
  }
 },
 "nbformat": 4,
 "nbformat_minor": 4
}
